{
 "cells": [
  {
   "cell_type": "markdown",
   "metadata": {},
   "source": [
    "# <h1 align=\"center\"> THEME 4 - Données tabulaires </h1>\n",
    "\n",
    "### 🎯 Objectifs\n",
    "\n",
    "- Manipuler des données tabulaires\n",
    "- Effectuer de l'analyse statistique\n",
    "\n",
    "### 📚 Notions \n",
    "\n",
    "- [Exemple 1](#ex1):\n",
    "    - Créer un Dataframe à partir d'un dictionnaire\n",
    "    - Concaténer des données\n",
    "    - Indexer des données\n",
    "    - Filtrer les données par masque binaire\n",
    "    - Trier des colonnes numériques\n",
    "- [Exemple 2](#ex2):\n",
    "    - Ouvrir un fichier de données (CSV, etc...) et créer un Dataframe\n",
    "    - Groupy et agrégation de données\n",
    "    - Renommer des colonnes\n",
    "    - Filtrer des colonnes textuelles par mots clés\n",
    "- [Exemple 3](#ex3):\n",
    "    - Retirer et remplacer des valeurs nulles\n",
    "    - Detecter et retirer des lignes dupliquées\n",
    "    - Créer un index à partir d'une colonne\n",
    "    - Effectuer des opérations matricielles\n",
    "    - Joindre deux Dataframes en fonction d'une clé commune\n",
    "    - Retirer des lignes et colonnes\n",
    "\n",
    "Un [lexique](#lexique) avec l'ensemble des fonctions qui ont été vues est disponible à la fin du notebook.\n",
    "\n",
    "### 🧰 Librairies\n",
    "\n",
    "- **Pandas**: est une librairie libre-source Python largement utilisée dans la science des données, l'analyse des données et l'apprentissage machine. Il est construit au-dessus de la librairie Numpy ce qui lui offre une interface similaire et permet l'interopérabilité avec des fonctions numpy.\n",
    "\n",
    "### 🔗 Référence\n",
    "\n",
    "- [Référence API Pandas](https://pandas.pydata.org/docs/reference/index.html)\n",
    "\n",
    "### ⚙️ Installation\n",
    "\n",
    "`pip install pandas`"
   ]
  },
  {
   "cell_type": "markdown",
   "metadata": {},
   "source": [
    "## <a name=\"ex1\"><h2 align=\"center\"> Exemple 1 - Fleurs Iris </h2></a>\n",
    "\n",
    "### 📝 Contexte\n",
    "\n",
    "L'Iris est un genre de plantes vivaces de la famille des Iridacées. Il existe une large variété d'espèces que l'on retrouve au Québec. L'Iris Versicolor est d'ailleurs l'un des emblèmes officiels du Québec et se retrouve sur son drapeau.\n",
    "\n",
    "<center> <img width=400px src=\"assets/iris.jpg\" /> </center>\n",
    "\n",
    "\n",
    "La fleur peut être violette, bleue ou pourpre et plus rarement blanche. Elle est constituée de trois pétales minces et relevées disposées à l'intérieur de la fleur et de trois sépales plus longues et plus larges en forme de spatule et situées à l'extérieur. \n",
    "\n",
    "### ⭐ Objectif\n",
    "\n",
    "- Créer un jeu de données à partir d'un dictionnaire Python contenant les données de fleurs d'iris.\n",
    "- Indexer et filtrer les données."
   ]
  },
  {
   "cell_type": "markdown",
   "metadata": {},
   "source": [
    "### 💻 Code\n",
    "\n",
    "Un `DataFrame` est une structure de données tabulaires qui permet de stocker et manipuler des données de façon intuitive. Les données tabulaires sont organisées sous plusieurs colonnes avec plusieurs entrées qui forment des lignes. Dans Pandas, une colonne de données est aussi appelée une `Series`.\n",
    "\n",
    "Il y a aussi la possibilité de créer un index. Grossièrement, un index est une colonne spéciale qui contient les identifiants des lignes. Par défaut, si on ne spécifie pas un index lors de la création d'un `DataFrame`, celui-ci est créé automatiquement et correspond au numéro de ligne. Ce numéro est associé directement à une ligne, cela veut dire que si on trie une colonne du `DataFrame`, l'index sera aussi trié.\n",
    "\n",
    "La façon la plus simple de créer un `DataFrame` est de partir d'un objet Python. La nature de cet objet change en fonction du format des données:\n",
    "\n",
    "- *Données colonnes*: L'objet est un dictionnaire où les clés sont les noms des colonnes, et où les valeurs sont des listes de même taille qui vont constituer les colonnes. C'est le format qui sera utilisé dans cet exemple.\n",
    "- *Données lignes*: L'objet est une liste de dictionnaires, où chaque dictionnaire ont les mêmes clés et possède une seule valeur par clé.\n",
    "\n",
    "Ces deux formats sont interchangeables en fonction de l'application et ont chacun des forces et faiblesses. "
   ]
  },
  {
   "cell_type": "code",
   "execution_count": null,
   "metadata": {},
   "outputs": [],
   "source": [
    "import pandas as pd\n",
    "import numpy as np\n",
    "import pprint as pp  # Pretty Print un objet Python comme un dictionnaire\n",
    "\n",
    "# Création d'un DataFrame (df) à partir d'un dictionnaire Python\n",
    "# ---------------------------------------------------------------\n",
    "# Pour créer un DataFrame à partir d'un dictionnaire, les clés doivent contenir des listes de données, si une seule\n",
    "# valeur est associée à une clé, la valeur est dupliquée pour chaque ligne du DataFrame (ici c'est le cas pour Location)\n",
    "df_iris = pd.DataFrame(\n",
    "    {\n",
    "        \"Date\": pd.to_datetime(\"2022-06-15\"),  # Conversion d'un texte en date\n",
    "        \"Location\": \"Canada\",  # Colonne location avec une valeur qui sera repétée\n",
    "        \"Espèce\": [\"Versicolor\", \"Setosa\", \"Setosa\", \"Virginica\"],  # Liste python de mots\n",
    "        \"Petale_long\": [5.1, 1.5, 1.6, 5.5],  # Liste python de nombres\n",
    "        \"Petale_larg\": np.array([1.2, 0.2, 0.3, 2.1]),  # Numpy array\n",
    "    },\n",
    "    index=[\"fleur_0\", \"fleur_1\", \"fleur_2\", \"fleur_3\"],  # Définir l'index (facultatif)\n",
    ")\n",
    "\n",
    "# Afficher le df (fonctionne seulement sur un notebook jupyter)\n",
    "df_iris"
   ]
  },
  {
   "cell_type": "markdown",
   "metadata": {},
   "source": [
    "Une fois le `DataFrame` créé, il est possible d'obtenir des informations sur son contenu."
   ]
  },
  {
   "cell_type": "code",
   "execution_count": null,
   "metadata": {},
   "outputs": [],
   "source": [
    "print(df_iris.shape)  # Forme du df (lignes, colonnes)\n",
    "print(df_iris.columns)  # Liste des colonnes du df\n",
    "print(df_iris.index)  # Liste des index du df\n",
    "print(df_iris.dtypes[\"Petale_long\"])  # Type de données d'une colonne"
   ]
  },
  {
   "cell_type": "markdown",
   "metadata": {},
   "source": [
    "Une fois un `DataFrame` créé, il est possible d'y ajouter des lignes ou colonnes avec la méthode `pd.concat()`. Cette méthode prend en paramètre une liste de `DataFrame` à concatener sur un axe. Dans le cas d'une simple concatenation d'une seule colonne, on peut passer en argument une `Series` également. "
   ]
  },
  {
   "cell_type": "code",
   "execution_count": null,
   "metadata": {},
   "outputs": [],
   "source": [
    "# Concater une nouvelle fleur dans le tableau\n",
    "# ---------------------------------------------------------------\n",
    "# Création du df qui contient les infos de la nouvelle fleur\n",
    "df_iris_0 = pd.DataFrame(\n",
    "    {\n",
    "        \"Date\": pd.to_datetime(\"2020-01-23\"),\n",
    "        \"Location\": \"Malte\",\n",
    "        \"Espèce\": \"Pseudacorus\",\n",
    "        \"Petale_long\": 5.4,\n",
    "        \"Petale_larg\": 2.2,\n",
    "    },\n",
    "    index=[\"fleur_4\"],\n",
    ")\n",
    "\n",
    "df_iris = pd.concat([df_iris, df_iris_0], axis=0)  # Concaténation sur les lignes\n",
    "\n",
    "df_iris"
   ]
  },
  {
   "cell_type": "code",
   "execution_count": null,
   "metadata": {},
   "outputs": [],
   "source": [
    "# Ajouter une nouvelle colonne pour la couleur\n",
    "# ---------------------------------------------------------------\n",
    "# Créer une Serie avec la liste des couleurs (même taile que le nb de lignes de df_iris)\n",
    "series_color = pd.Series(\n",
    "    [\"Violet\", \"Violet\", \"Violet\", \"Violet\", \"Jaune\"],  # Données de la colonne\n",
    "    name=\"Couleur\",  # Nom de la colonne/Série\n",
    "    index=df_iris.index,  # Définir l'index, ici nécéssaire pour la concaténation\n",
    ")\n",
    "\n",
    "df_iris = pd.concat([df_iris, series_color], axis=1)  # Concaténation sur les colonnes\n",
    "\n",
    "df_iris"
   ]
  },
  {
   "cell_type": "markdown",
   "metadata": {},
   "source": [
    "L'indexation des données dans pandas est assez délicate puisqu'il existe 3 formes d'indexation.\n",
    "\n",
    "- Indexation directe des colonnes: `df[<nom_col>]` ou `df[[<nom_col1>, <nom_col2>, ...]]`. Permet de selectionner l'entièreté d'une ou plusieurs colonnes."
   ]
  },
  {
   "cell_type": "code",
   "execution_count": null,
   "metadata": {},
   "outputs": [],
   "source": [
    "df_iris[\"Espèce\"]  # Selectionner une colonne (retourne une Série)"
   ]
  },
  {
   "cell_type": "markdown",
   "metadata": {},
   "source": [
    "- Avec `df.loc[<index ou liste>, <nom_colonne ou liste>]`. Utile pour indexer une ou plusieurs colonnes avec un index particulier."
   ]
  },
  {
   "cell_type": "code",
   "execution_count": null,
   "metadata": {},
   "outputs": [],
   "source": [
    "df_iris.loc[\"fleur_0\", \"Espèce\"]  # Espèce de la fleur_0"
   ]
  },
  {
   "cell_type": "code",
   "execution_count": null,
   "metadata": {},
   "outputs": [],
   "source": [
    "df_iris.loc[:, [\"Petale_long\", \"Petale_larg\"]]  # Toutes les lignes des colonnes \"Petale_long\" et \"Petale_larg\""
   ]
  },
  {
   "cell_type": "markdown",
   "metadata": {},
   "source": [
    "- Avec `df.iloc[<no_ligne>, <no_colonne>]`. Similaire à `.loc` mais utilise **uniquement** des indices numériques. Cette méthode est similaire à l'indexation d'une matrice dans Numpy (vu dans le Thème 2)."
   ]
  },
  {
   "cell_type": "code",
   "execution_count": null,
   "metadata": {},
   "outputs": [],
   "source": [
    "df_iris.iloc[0, -1]  # Selectionner la première ligne de la dernière colonne"
   ]
  },
  {
   "cell_type": "code",
   "execution_count": null,
   "metadata": {},
   "outputs": [],
   "source": [
    "df_iris.iloc[:3, -2:]  # Selectionner les 3 premières lignes des 2 dernières colonnes"
   ]
  },
  {
   "cell_type": "markdown",
   "metadata": {},
   "source": [
    "On utilise un `DataFrame` généralement lorsque l'on veut analyser un sous-ensemble de données avec une caractéristique particulière. Cette caractéristique peut être isolée en filtrant les données. L'une des méthodes est l'utilisation de masques binaires, similaires à ceux employés avec les Numpy arrays."
   ]
  },
  {
   "cell_type": "code",
   "execution_count": null,
   "metadata": {},
   "outputs": [],
   "source": [
    "filtre = df_iris[\"Espèce\"] == \"Setosa\"  # Masque binaire issu de l'évaluation de la condition \"Espèce\" == \"Setosa\"\n",
    "filtre"
   ]
  },
  {
   "cell_type": "code",
   "execution_count": null,
   "metadata": {},
   "outputs": [],
   "source": [
    "df_iris.index[filtre]  # Voir les index des lignes qui respectent le masque binaire"
   ]
  },
  {
   "cell_type": "code",
   "execution_count": null,
   "metadata": {},
   "outputs": [],
   "source": [
    "df_iris.loc[filtre, :]  # Appliquer le masque au df"
   ]
  },
  {
   "cell_type": "code",
   "execution_count": null,
   "metadata": {},
   "outputs": [],
   "source": [
    "# Prendre les iris avec une largeur de petale supérieure à 1 ET une longueur de petale inférieure à 5.2, et selectionner\n",
    "# uniquement les colonnes \"Espèce\", \"Petale_long\" et \"Petale_larg\"\n",
    "# ----------------------------------------------------------------------------------------------------------------------\n",
    "# Rappel: ET = &, OU = |\n",
    "# Attention: ne pas oublier les parenthèses entre chaque masque binaire\n",
    "filtre2 = (df_iris[\"Petale_larg\"] > 1) & (df_iris[\"Petale_long\"] < 5.2)\n",
    "df_iris.loc[filtre2, [\"Espèce\", \"Petale_long\", \"Petale_larg\"]]"
   ]
  },
  {
   "cell_type": "markdown",
   "metadata": {},
   "source": [
    "Plutôt que d'enchaîner plusieurs masques binaires pour évaluer plusieurs égalités, on peut utiliser `.isin` pour isoler les lignes d'une colonne qui contiennent l'une des valeurs possibles d'une liste."
   ]
  },
  {
   "cell_type": "code",
   "execution_count": null,
   "metadata": {},
   "outputs": [],
   "source": [
    "df_iris.loc[\n",
    "    df_iris[\"Espèce\"].isin([\"Setosa\", \"Virginica\"]), :\n",
    "]  # Selectionner les iris de type \"Setosa\" ou \"Versicolor\""
   ]
  },
  {
   "cell_type": "markdown",
   "metadata": {},
   "source": [
    "On peut aussi trier les données avec une ou plusieurs colonnes grâce à `sort_values`."
   ]
  },
  {
   "cell_type": "code",
   "execution_count": null,
   "metadata": {},
   "outputs": [],
   "source": [
    "# Trier le tableau par les valeurs de la colonne \"Petale_long\" en ordre décroissant\n",
    "df_iris.sort_values(by=\"Petale_long\", ascending=False)"
   ]
  },
  {
   "cell_type": "code",
   "execution_count": null,
   "metadata": {},
   "outputs": [],
   "source": [
    "# Trier le tableau par les valeurs des colonnes \"Petale_long\" et \"Petale_larg\" en ordre croissant\n",
    "df_iris.sort_values(by=[\"Petale_long\", \"Petale_larg\"])"
   ]
  },
  {
   "cell_type": "markdown",
   "metadata": {},
   "source": [
    "Pour calculer la surface rectangulaire occupée par une pétale, on peut utiliser une fonction Lambda. Cette fonction permet d'évaluer une expression mathématique sur chaque ligne du DataFrame. Avec la fonction `df.assign(<nom_col> = lambda x: <expression x>)` on ajoute une colonne qui contient la valeur calculée pour la ligne `x` par la fonction Lambda."
   ]
  },
  {
   "cell_type": "code",
   "execution_count": null,
   "metadata": {},
   "outputs": [],
   "source": [
    "df_iris = df_iris.assign(Aire=lambda x: x[\"Petale_long\"] * x[\"Petale_larg\"])\n",
    "df_iris"
   ]
  },
  {
   "cell_type": "markdown",
   "metadata": {},
   "source": [
    "Une fois que les opérations sont complétés sur le `DataFrame`, il est simple de le convertir en dictionnaire avec la méthode `to_dict()` pour l'exporter par exemple. "
   ]
  },
  {
   "cell_type": "code",
   "execution_count": null,
   "metadata": {},
   "outputs": [],
   "source": [
    "# Selectionner les fleurs de type \"Setosa\" et \"Versicolor\" et les trier par ordre croissant de largeur de pétale\n",
    "new_df = df_iris.loc[df_iris[\"Espèce\"].isin([\"Setosa\", \"Versicolor\"]), :].sort_values(by=\"Petale_larg\")\n",
    "\n",
    "df_dict = new_df.to_dict(\"list\")  # \"List\" pour format colonne et \"records\" pour format ligne\n",
    "\n",
    "pp.pprint(df_dict)  # Afficher le dictionnaire résultant (eq. à print(df_dict) mais plus lisible)"
   ]
  },
  {
   "cell_type": "markdown",
   "metadata": {},
   "source": [
    "Pour des opérations matricielles, on peut aussi utiliser la méthode `to_numpy()` pour convertir des colonnes du DataFrame en matrice Numpy."
   ]
  },
  {
   "cell_type": "code",
   "execution_count": null,
   "metadata": {},
   "outputs": [],
   "source": [
    "mat_petales = df_iris.loc[:, [\"Petale_long\", \"Petale_larg\"]].to_numpy()\n",
    "print(mat_petales)"
   ]
  },
  {
   "cell_type": "markdown",
   "metadata": {},
   "source": [
    "## <a name=\"ex2\"><h2 align=\"center\"> Exemple 2 - Transestérification du canola en biodiesel </h2></a>\n",
    "\n",
    "### 📝 Contexte\n",
    "La transestérification est une réaction catalytique permettant la production de biodiesel (sous forme d'esters méthyliques) à partir d'huile végétale et de méthanol. Dans cet exemple, l'huile végétale utilisée est le canola et la réaction est la suivante:\n",
    "\n",
    "<center>\n",
    "<img width=500px src=\"assets/reaction_biodiesel.png\" />\n",
    "</center>\n",
    "\n",
    "Les triglycérides du canola réagissent avec l'alcool et produisent du biodiesel et du glycérol. Une chromatographie est effectuée à la suite de la réaction pour analyser son contenu chimique.\n",
    "\n",
    "<center>\n",
    "<img width=500px src=\"assets/chromato_biodiesel.png\" />\n",
    "</center>\n",
    "\n",
    "Enfin, une analyse numérique dans le logiciel de chromatographie permet d'extraire les données des pics les plus importants. \n",
    "\n",
    "### ⭐ Objectif\n",
    "\n",
    "Faire la synthèse des données expérimentales grâce à une agrégation."
   ]
  },
  {
   "cell_type": "markdown",
   "metadata": {},
   "source": [
    "### 💻 Code\n",
    "\n",
    "Les données que l'on analyse sont habituellement stockées sur un disque dans un fichier. Il existe une multitude de formats qui existent et les plus utilisés sont: `CSV`, `JSON`, `IPC`, `HDF5` et `Parquet`. \n",
    "\n",
    "Dans Pandas, il y a [plusieurs](https://pandas.pydata.org/docs/reference/io.html) fonctions qui permettent d'ouvrir ces fichiers et de les convertir facilement en `DataFrame`. \n",
    "\n",
    "Pour ouvrir un fichier, la méthode est de la forme `pd.read_<format>(<fichier>)` et pour enregistrer un `DataFrame` dans un fichier, la méthode est de la forme `df.to_<format>(<fichier>)`.\n",
    "\n",
    "Pour cet exemple, on utilise le format de base: `CSV`. "
   ]
  },
  {
   "cell_type": "code",
   "execution_count": null,
   "metadata": {},
   "outputs": [],
   "source": [
    "# Lecture du fichier CSV avec un séparateur \";\"\n",
    "df_bio = pd.read_csv(\"data/biodiesel.csv\", sep=\";\")\n",
    "\n",
    "df_bio"
   ]
  },
  {
   "cell_type": "markdown",
   "metadata": {},
   "source": [
    "Dans la science des données, l'un des outils fondamentaux est l'agrégation de données qui permet de regrouper les données appartenant à un même sous-groupe et en tirer plus facilement des résultats numériques. \n",
    "\n",
    "Avec pandas, cela se fait avec la méthode `groupby` pour regrouper les données sur une ou plusieurs colonnes et `agg` pour spécifier la méthode d'agrégation employée, très souvent sur les données numériques. Après l'agrégation, une bonne pratique est de renommer les colonnes pour mieux représenter les nouvelles colonnes, avec pandas on peut faire cela avec la méthode `rename`.\n",
    "\n",
    "Les opérations d'agrégation possibles sont:\n",
    "\n",
    "<a name=\"operations\"></a>\n",
    "| Opération        | Description              |\n",
    "| ---------------- | ------------------------ |\n",
    "| `mean`, `median` | Moyenne, Médiane         |\n",
    "| `count`          | Nombre d'éléments        |\n",
    "| `first`, `last`  | Premier, Dernier élément |\n",
    "| `std`, `var`     | Ecart-type, Variance     |\n",
    "| `min`, `max`     | Minimum, Maximum         |\n",
    "| `sum`, `prod`    | Somme, Produit           |\n",
    "\n",
    "Ces opérations peuvent être aussi directement utilisées sur un df (ou sur certaines lignes/colonnes) comme par exemple `df.mean(axis=1)` pour calculer la moyenne de chaque ligne."
   ]
  },
  {
   "cell_type": "code",
   "execution_count": null,
   "metadata": {},
   "outputs": [],
   "source": [
    "# Les colonnes sont renommées en utilisant un dictionnaire où les clés sont les anciens noms et les valeurs sont\n",
    "# les nouveaux noms\n",
    "new_col = {\"Time\": \"Avg Time\", \"Area\": \"Total Area\"}\n",
    "\n",
    "# Manipulation du df\n",
    "# -------------------------------------------------\n",
    "# Les étapes peuvent être également écrites sur une seule ligne\n",
    "df_grouped_bio = (\n",
    "    df_bio.groupby(\"Name\", as_index=True)  # Regrouper les lignes par \"Name\", avec le nom comme index (facultatif)\n",
    "    .agg({\"Time\": \"mean\", \"Area\": \"sum\"})  # Spécifier l'opération d'aggregation sur les colonnes non-regroupées\n",
    "    .rename(columns=new_col)  # Renommer les colonnes\n",
    ")\n",
    "\n",
    "df_grouped_bio"
   ]
  },
  {
   "cell_type": "markdown",
   "metadata": {},
   "source": [
    "Pour pouvoir filtrer les lignes qui correspondent à une molécule de biodiesel, on peut utiliser `df[<nom_col>].str.contains(<critère>)` sur une colonne ou `df.index.str.contains(<critère>)` sur un index de texte pour isoler les lignes qui contiennent une sous-chaine de charactères. Dans notre cas, on remarque que les molécules de biodiesel contiennent un \"C\", ce sera donc le critère choisi.    "
   ]
  },
  {
   "cell_type": "code",
   "execution_count": null,
   "metadata": {},
   "outputs": [],
   "source": [
    "# Selectionner les index qui contiennent la lettre \"C\"\n",
    "df_grouped_bio.loc[df_grouped_bio.index.str.contains(\"C\")]"
   ]
  },
  {
   "cell_type": "code",
   "execution_count": null,
   "metadata": {},
   "outputs": [],
   "source": [
    "df_grouped_bio_noidx = df_grouped_bio.reset_index()  # Créer une copie du df avec l'index remis comme par défaut\n",
    "\n",
    "df_grouped_bio_noidx.loc[df_grouped_bio_noidx[\"Name\"].str.contains(\"C\")]"
   ]
  },
  {
   "cell_type": "markdown",
   "metadata": {},
   "source": [
    "### 💡 Astuces\n",
    "\n",
    "Le format CSV existe depuis très longtemps et sa simplicité lui permet d'être très souvent disponible comme format d'exportation de données dans plusieurs logiciels. Cependant, il est loin d'être très efficace et présente beaucoup de désavantages: lecture lente d'une colonne spécifique, pas de compression par défaut, faible support pour les caractères spéciaux et l'hétérogénéité des types de données. Pour une faible quantité de données, le format CSV reste très pratique, toutefois, si l'on manipule une grande quantité de données, il est recommandé d'utiliser le format [Parquet](https://en.wikipedia.org/wiki/Apache_Parquet). C'est un format moderne et très performant qui permet de stocker des données en prenant 2 à 10 fois moins de place et avec une vitesse de lecture 10 à 100 fois plus rapide. Parquet est intégré à Pandas et peut être utilisé avec les méthodes `pd.read_parquet()` et `df.to_parquet()`."
   ]
  },
  {
   "cell_type": "markdown",
   "metadata": {},
   "source": [
    "## <a name=\"ex3\"><h2 align=\"center\"> Exemple 3 - Émissions écoinvent </h2></a>\n",
    "\n",
    "\n",
    "### 📝 Contexte\n",
    "\n",
    "Ecoinvent est une association à but non lucratif qui met à disposition des données de haute qualité reliées aux émissions de divers procédés industriels. À partir de leur base de données, des données ont été extraites dans un fichier csv avec:\n",
    "\n",
    "- Le ID du procédé\n",
    "- Le nom de la particule émise\n",
    "- Le numéro CAS de cette particule\n",
    "- L'unité utilisée pour mesurer l'émission\n",
    "- Le milieu d'émission\n",
    "- Le sous-milieu d'émission \n",
    "\n",
    "À partir d'une liste des numéros CAS uniques, les ratios massique pour chaque molécule ont été extraites dans un autre fichier csv. Cette extraction a été possible grâce aux librairies python open source: \n",
    "\n",
    "- [cirpy](https://github.com/mcs07/CIRpy) pour convertir le numéro CAS en représentation chimique.\n",
    "- [chempy](https://github.com/bjodah/chempy) pour obtenir les compositions chimiques. \n",
    "\n",
    "Ce fichier contient donc une colonne avec le numéro CAS et 118 colonnes pour chaque élément atomique et son ratio massique dans la molécule.\n",
    "\n",
    "### ⭐ Objectif\n",
    "\n",
    "- Ouvrir ces fichiers xlsx comme `DataFrame`.\n",
    "- Rejoindre les deux tableaux grâce au numéro CAS."
   ]
  },
  {
   "cell_type": "markdown",
   "metadata": {},
   "source": [
    "### 💻 Code"
   ]
  },
  {
   "cell_type": "markdown",
   "metadata": {},
   "source": [
    "#### Partie 1\n",
    "\n",
    "On commence par ouvrir les fichiers csv."
   ]
  },
  {
   "cell_type": "code",
   "execution_count": null,
   "metadata": {},
   "outputs": [],
   "source": [
    "df_ecoinvent = pd.read_csv(\"data/ecoinvent.csv\", sep=\";\")\n",
    "df_chempy = pd.read_csv(\"data/chempy.csv\", sep=\";\")\n",
    "\n",
    "df_ecoinvent"
   ]
  },
  {
   "cell_type": "code",
   "execution_count": null,
   "metadata": {},
   "outputs": [],
   "source": [
    "pd.set_option(\"display.precision\", 2)  # Pour une meilleure clartée on affiche le df avec 2 chiffres après la virgule\n",
    "\n",
    "df_chempy"
   ]
  },
  {
   "cell_type": "markdown",
   "metadata": {},
   "source": [
    "On remarque que le DataFrame `chempy` contient beaucoup de valeurs `NaN` qui correspondent à des valeurs nulles. Pour éviter d'avoir des erreurs lors d'un calcul de somme par exemple, il est préférable de remplacer les valeurs `NaN` par zéro.\n",
    "\n",
    "Pour une manipulation plus optimale, la plupart des opérations sont effectuées `inplace=True` pour modifier le DataFrame directement sans créer des copies inutiles. Cela est équivalent à faire `df = df.<methode>`. "
   ]
  },
  {
   "cell_type": "code",
   "execution_count": null,
   "metadata": {},
   "outputs": [],
   "source": [
    "# Remplacer toutes les valeurs nulles par 0\n",
    "df_chempy.fillna(0, inplace=True)\n",
    "\n",
    "df_chempy"
   ]
  },
  {
   "cell_type": "markdown",
   "metadata": {},
   "source": [
    "Généralement, lors de la manipulation de données tabulaires, il est souvent très possible d'être en présence de lignes dupliquées. On peut vérifier ça avec la méthode `.duplicated()` qui renvoie un masque binaire avec `True` pour les lignes dupliquées en trop. Dans notre cas, cette méthode est évaluée uniquement sur les lignes de la colonne \"cas\". "
   ]
  },
  {
   "cell_type": "code",
   "execution_count": null,
   "metadata": {},
   "outputs": [],
   "source": [
    "filtre3 = df_chempy[\"cas\"].duplicated()  # Trouver les lignes avec un CAS dupliqué\n",
    "df_chempy.loc[filtre3, :].sort_values(by=\"cas\")  # Appliquer le filtre et trier par ordre croissant du CAS"
   ]
  },
  {
   "cell_type": "markdown",
   "metadata": {},
   "source": [
    "On voit donc qu'il y a 16 dupliquées en trop dans le tableau. On peut les retirer du DataFrame avec la méthode `drop_duplicates()`. "
   ]
  },
  {
   "cell_type": "code",
   "execution_count": null,
   "metadata": {},
   "outputs": [],
   "source": [
    "df_chempy.drop_duplicates([\"cas\"], inplace=True)"
   ]
  },
  {
   "cell_type": "markdown",
   "metadata": {},
   "source": [
    "#### Partie 2"
   ]
  },
  {
   "cell_type": "markdown",
   "metadata": {},
   "source": [
    "Pour calculer la quantité molaire par gramme de substance, on doit multiplier les fractions massiques de chaque élément par l'inverse de leur masse molaire respective, puis additionner les résultats. Les masses molaires des éléments atomiques se trouvent dans un autre fichier csv: `table_periodique.csv`."
   ]
  },
  {
   "cell_type": "code",
   "execution_count": null,
   "metadata": {},
   "outputs": [],
   "source": [
    "df_tbl_period = pd.read_csv(\"data/table_periodique.csv\", sep=\";\")\n",
    "\n",
    "df_tbl_period"
   ]
  },
  {
   "cell_type": "markdown",
   "metadata": {},
   "source": [
    "L'opération que l'on veut faire est principalement une multiplication matricielle entre 2 matrices: A x B, sauf qu'ici on a des `DataFrame` plutôt que des matrices. La particularité qui explique que l'utilisation d'un `DataFrame` est plus judicieuse, est que la multiplication matricielle est effectuée uniquement entre les mêmes éléments atomiques. Pandas s'occupe de l'alignement entre les colonnes du df A et les index du df B. Cependant, avant d'effectuer la multiplication, il faut s'assurer que les deux df sont de dimensions compatibles c'est à dire que le nombre de colonnes de A est égal au nombre de lignes de B.\n",
    "\n",
    "On peut commencer par conditionner notre df B qui va contenir les masses molaires des éléments atomiques. On veut obtenir un df avec une seule colonne qui contient les masses molaires et les symboles des éléments comme index."
   ]
  },
  {
   "cell_type": "code",
   "execution_count": null,
   "metadata": {},
   "outputs": [],
   "source": [
    "# Dans le df_tbl_period, isoler les lignes des éléments qui sont présents dans le df_chempy\n",
    "df_tbl_period = df_tbl_period.loc[df_tbl_period[\"Symbol\"].isin(df_chempy.columns[df_chempy.columns != \"cas\"]), :]\n",
    "\n",
    "# Utiliser la colonne \"Symbol\" comme index\n",
    "df_tbl_period.set_index(\"Symbol\", inplace=True)\n",
    "\n",
    "# Selectionner uniquement la colonne des masses atomiques et l'inverser pour compléter la création du df B\n",
    "df_B = 1 / df_tbl_period[\"AtomicMass\"]\n",
    "\n",
    "df_B"
   ]
  },
  {
   "cell_type": "markdown",
   "metadata": {},
   "source": [
    "Le df A n'est tout simplement que les colonnes des fractions massiques du `df_chempy`. "
   ]
  },
  {
   "cell_type": "code",
   "execution_count": null,
   "metadata": {},
   "outputs": [],
   "source": [
    "df_A = df_chempy.loc[:, df_chempy.columns != \"cas\"]\n",
    "\n",
    "df_A"
   ]
  },
  {
   "cell_type": "markdown",
   "metadata": {},
   "source": [
    "Dans Pandas, les opérations matricielles utilisent les mêmes symboles qu'avec Numpy, cela veut dire que pour la multiplication matricielle on utilise `@`."
   ]
  },
  {
   "cell_type": "code",
   "execution_count": null,
   "metadata": {},
   "outputs": [],
   "source": [
    "# Créer une nouvelle serie appelée qte avec le résultat de la multiplication\n",
    "series_mass = pd.Series(df_A @ df_B, name=\"mass\")\n",
    "\n",
    "series_mass"
   ]
  },
  {
   "cell_type": "markdown",
   "metadata": {},
   "source": [
    "Enfin, on peut concaténer notre nouvelle serie à `df_chempy`."
   ]
  },
  {
   "cell_type": "code",
   "execution_count": null,
   "metadata": {},
   "outputs": [],
   "source": [
    "# Concatener le long des colonnes (axis=1)\n",
    "df_chempy = pd.concat([df_chempy, series_mass], axis=1)\n",
    "\n",
    "# On peut renommer une colonne avec la méthode df.rename\n",
    "# -------------------------------------------------\n",
    "#  On passe un dictionnaire avec comme clés les anciens noms et comme valeurs les nouveaux noms de colonnes\n",
    "df_chempy.rename(columns={\"mass\": \"mol/g\"}, inplace=True)"
   ]
  },
  {
   "cell_type": "markdown",
   "metadata": {},
   "source": [
    "#### Partie 3"
   ]
  },
  {
   "cell_type": "markdown",
   "metadata": {},
   "source": [
    "Rejoindre plusieurs tableaux de données est une autre opération fondamentale dans la science des données. Pour des données de type relationnelles, comme celles que l'on a, des tableaux peuvent être joints à partir d'une ou plusieurs clés communes entre les deux tables. Dans notre cas, la clé commune est le numéro CAS. \n",
    "\n",
    "Dans pandas, cette opération se fait avec la méthode `.merge()`. Il existe plusieurs types de merge que l'on peut faire: `inner`, `outer`, `left` et `right`, une explication complète avec des exemples est disponible [ici](https://learnsql.com/blog/sql-joins-types-explained/)."
   ]
  },
  {
   "cell_type": "code",
   "execution_count": null,
   "metadata": {},
   "outputs": [],
   "source": [
    "# Faire un merge de type \"left\" entre la df_ecoinvent (gauche) et la df_chempy (droite).\n",
    "# -------------------------------------------------\n",
    "# Explication: Cela veut dire que toutes les colonnes de df_chempy, sauf celle qui a servi de clé pour le merge, soit\n",
    "#              la colonne \"cas\", sont annexées à la df_ecoinvent pour former le nouveau df: df_merged\n",
    "# Type \"left\": Chaque ligne du df_ecoinvent est associée à la ligne du df_chempy qui a le même CAS et dans le cas ou le\n",
    "#              CAS n'existe pas dans df_chempy, la ligne devient vide.\n",
    "df_joined = pd.merge(\n",
    "    df_ecoinvent,\n",
    "    df_chempy,\n",
    "    left_on=\"cas\",\n",
    "    right_on=\"cas\",\n",
    "    how=\"left\",\n",
    ")\n",
    "\n",
    "df_joined"
   ]
  },
  {
   "cell_type": "markdown",
   "metadata": {},
   "source": [
    "Pour retirer des lignes ou colonnes non désirées ou vides, Pandas met à disposition les méthodes `df.drop()` et `df.dropna()`."
   ]
  },
  {
   "cell_type": "code",
   "execution_count": null,
   "metadata": {},
   "outputs": [],
   "source": [
    "# Retirer les lignes avec un CAS spécifique\n",
    "df_joined.drop(index=df_joined.index[df_joined[\"cas\"] == \"001912-24-9\"], inplace=True)\n",
    "\n",
    "# Retirer une colonne\n",
    "df_joined.drop(columns=[\"unit\"], inplace=True)\n",
    "\n",
    "# Retirer les lignes avec au moins une valeur nulle\n",
    "df_joined.dropna(\n",
    "    axis=0,  # lignes = 0, colonnes = 1\n",
    "    how=\"any\",  # 'any' ou 'all'\n",
    "    thresh=None,  # Si 'any', nombre de valeurs nécessaires pour que la ligne soit supprimée\n",
    ")"
   ]
  },
  {
   "cell_type": "markdown",
   "metadata": {},
   "source": [
    "### 💡 Astuces\n",
    "\n",
    "- Lors de la manpulation des `DataFrame`, par souci de performance, il est important de comprendre l'ordre des opérations qui sont effectuées. Généralement, il faut commencer par tout filtrage des données et retirer les lignes ou colonnes que l'on veut exclure avant de faire une opération mathématique.\n",
    "- Dans la plupart des cas, les données utilisées dépassent rarement le million de lignes. Cependant, dans le cas contraire, il faut commencer à prendre en compte la taille des données et ce que ça implique en terme d'utilisation de la mémoire. Très souvent cela consiste à limiter le nombre de copies que l'on fait et à adopter une structure de tableau plus compacte afin de diminuer sa taille. C'est un sujet un peu plus avancé mais tout de même interessant à savoir si on a l'intention de travailler avec du Big Data et construire des algorithmes qui roulent en temps réel par exemple."
   ]
  },
  {
   "cell_type": "markdown",
   "metadata": {},
   "source": [
    "## <a name=\"lexique\"><h2 align=\"center\"> Lexique </h2></a>\n",
    "\n",
    "### 📚 Terminologie\n",
    "\n",
    "- `DataFrame` ou `df`: structure de données tabulaires en mémoire qui permet de stocker et manipuler les colonnes et lignes de données.\n",
    "\n",
    "### ✔️ Vu dans l'exemple 1\n",
    "\n",
    "- `pd.DataFrame`: créé un DataFrame à partir d'un objet Python comme une liste de dictionnaires ou un dictionnaire de listes.\n",
    "- `df.shape`: renvoie la taille du DataFrame.\n",
    "- `df.columns`: renvoie la liste des noms des colonnes.\n",
    "- `df.index`: renvoie les index des lignes.\n",
    "- `df.dtypes`: renvoie le type de données d'une colonne.\n",
    "- `pd.Series`: créé une Series (colonne d'un df) à partir d'une liste de données. \n",
    "- `pd.concat`: concatène plusieurs DataFrames sur les lignes ou colonnes.\n",
    "- `df.loc`: indexation de plusieurs lignes et colonnes par noms et avec des masques binaires.\n",
    "- `df.iloc`: indexation par numéros de lignes et colonnes.\n",
    "- `df.isin`: masque binaire qui renvoie `True` pour les lignes qui contiennent une valeur dans une liste de valeurs possibles.\n",
    "- `df.sort_values`: trie les données par ordre croissant ou décroissant.\n",
    "- `df.to_dict`: convertit un DataFrame en objet Python.\n",
    "- `df.to_numpy`: convertit un DataFrame en matrice NumPy.\n",
    "\n",
    "### ✔️ Vu dans l'exemple 2\n",
    "\n",
    "- `pd.read_csv`: lit un fichier CSV et renvoie un DataFrame.\n",
    "- `df.groupby`: groupe les lignes d'un DataFrame par une ou des colonnes.\n",
    "- `df.agg`: spécifie la méthode d'aggregation lors d'un groupby.\n",
    "- `df.rename`: renomme les colonnes d'un DataFrame.\n",
    "- `df.str.contains`: renvoie un masque binaire pour chaque ligne qui contient un ou plusieurs mots.\n",
    "- `df.reset_index`: remet les index à la valeur par défaut.\n",
    "\n",
    "### ✔️ Vu dans l'exemple 3\n",
    "\n",
    "- `df.fillna`: remplace les valeurs nulles par une valeur.\n",
    "- `df.duplicated`: renvoie un masque binaire pour les lignes qui sont dupliquées.\n",
    "- `df.drop_duplicates`: retire les lignes dupliquées.\n",
    "- `df.set_index`: définit la clé primaire d'un DataFrame.\n",
    "- `df.merge`: joint deux DataFrames en fonction d'une clé commune.\n",
    "- `df.dropna`: retire les lignes ou colonnes qui contiennent des valeurs nulles.\n",
    "- `df.drop`: retire les lignes/colonnes spécifiées d'un DataFrame."
   ]
  }
 ],
 "metadata": {
  "interpreter": {
   "hash": "25034407fed5d681614dac11a1c0537e8cb49e3a8883c071303eea01322943d9"
  },
  "kernelspec": {
   "display_name": "Python 3.9.0 64-bit",
   "language": "python",
   "name": "python3"
  },
  "language_info": {
   "codemirror_mode": {
    "name": "ipython",
    "version": 3
   },
   "file_extension": ".py",
   "mimetype": "text/x-python",
   "name": "python",
   "nbconvert_exporter": "python",
   "pygments_lexer": "ipython3",
   "version": "3.9.0"
  }
 },
 "nbformat": 4,
 "nbformat_minor": 2
}
