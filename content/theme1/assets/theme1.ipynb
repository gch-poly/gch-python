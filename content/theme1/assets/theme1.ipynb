{
 "cells": [
  {
   "cell_type": "markdown",
   "metadata": {},
   "source": [
    "# <h1 align=\"center\"> THEME 1 - Présentation du Projet</h1>\n",
    "\n",
    "Cette ressource pédagogique est un outil d’auto-apprentissage destiné à couvrir l’ensemble des approches de programmation scientifique en génie chimique à l'aide d'exemples concrets. \n",
    "\n",
    "Ces exemples sont groupés en thèmes scientifiques qui sont couramments vu en génie chimique. Chaque thème est présenté sous forme d'un notebook Jupyter qui permet la modification et l'éxécution du code.\n",
    "\n",
    "### Qu'est-ce qu'un notebook Jupyter ?\n",
    "\n",
    "Très utilisé dans le domaine de la science des données, les notebook Jupyter sont des documents divisés en cellules de texte formatté en [Markdown](https://www.markdownguide.org/basic-syntax/) et de code [Python](https://www.python.org/). Chaque cellule peut être exécutée individuellement et dans le cas des cellules de code, les variables créées dans une cellule sont disponibles dans l'ensemble du notebook. Les avantages d'un notebook Jupyter sont :\n",
    "\n",
    "- Contrairement à un fichier `.py`, l'execution par cellule dans un notebook permet de modifier du code sans avoir à re-executer tout le code précédent.\n",
    "- L'affichage de figures est plus simple et persistant puisque qu'elle apparait directement en dessous de la cellule qui a généré la figure.\n",
    "- Les cellules de textes permettent de créer de beaux documents, ajouter des figures, des équations en $LaTeX$, ajouter des liens et bien plus.\n",
    "\n",
    "### Comment utiliser un notebook Jupyter ?\n",
    "\n",
    "Tout comme l'extension d'un fichier Python est `.py`, l'extension d'un notebook Jupyter est `.ipynb`. \n",
    "\n",
    "### Comment est organisé un thème ?\n",
    "\n",
    "\n",
    "- 🎯 Objectifs\n",
    "- 📚 Notions \n",
    "- 🧰 Librairies\n",
    "- 🔗 Référence\n",
    "- ⚙️ Installation\n",
    "\n",
    "- 📝 Contexte\n",
    "- ⭐ Objectif\n",
    "- 💻 Code (av commentaires)\n",
    "- 💡 Astuces\n",
    "\n",
    "- 🕹️ Modifier le code"
   ]
  }
 ],
 "metadata": {
  "kernelspec": {
   "display_name": "Python 3.9.0 64-bit",
   "language": "python",
   "name": "python3"
  },
  "language_info": {
   "name": "python",
   "version": "3.9.0"
  },
  "vscode": {
   "interpreter": {
    "hash": "25034407fed5d681614dac11a1c0537e8cb49e3a8883c071303eea01322943d9"
   }
  }
 },
 "nbformat": 4,
 "nbformat_minor": 2
}
