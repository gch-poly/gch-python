{
 "cells": [
  {
   "cell_type": "markdown",
   "metadata": {},
   "source": [
    "# <h1 align=\"center\"> THEME 1 - Présentation du Projet</h1>\n",
    "\n",
    "Cette collection d'exemples est un outil d’auto-apprentissage destiné à couvrir l’ensemble des approches de programmation scientifique en génie à l'aide d'exemples concrets. \n",
    "\n",
    "`TODO: ajouter les liens pour tt les thèmes`\n",
    "\n",
    "Ces exemples sont groupés en thèmes scientifiques qui sont couramment vu en génie chimique. Chaque thème est présenté sous forme d'un notebook Jupyter qui permet la modification et l'exécution du code."
   ]
  },
  {
   "cell_type": "markdown",
   "metadata": {},
   "source": [
    "## Qu'est-ce qu'un notebook Jupyter ?\n",
    "\n",
    "Très utilisé dans le domaine de la science des données, le notebook Jupyter (fichier `.ipynb`) est un document divisé en cellules de texte (formaté en [Markdown](https://www.markdownguide.org/basic-syntax/)) et de code [Python](https://www.python.org/). Chaque cellule peut être exécutée individuellement et dans le cas des cellules de code, les variables créées dans une cellule sont disponibles dans l'ensemble du notebook. \n",
    "\n",
    "Comparé à un fichier de code `.py` classique, un notebook Jupyter présente plusieurs avantages :\n",
    "\n",
    "- L'execution par cellule dans un notebook permet de modifier du code sans avoir à re-executer tout le code précédent. Cela est particulièrement utile par exemple pour générer une nouvelle figure sans refaire le calcul des données sources. \n",
    "- L'affichage de figures est plus simple et persistant puisque qu'elle apparaît directement en dessous de la cellule qui a généré la figure.\n",
    "- Les cellules de textes permettent de créer de beaux documents, ajouter des figures, des équations en $LaTeX$, ajouter des liens et bien plus."
   ]
  },
  {
   "cell_type": "markdown",
   "metadata": {},
   "source": [
    "## Comment est organisé un thème ?\n",
    "\n",
    "Au début du notebook, on retrouve:\n",
    "\n",
    "- 🎯 **Objectifs:** présente de façon très synthétique les éléments approchés dans le thème.\n",
    "- ✒️ **Notions:** notions de programmation concrètes qui sont acquises au fil de chaque exemple. \n",
    "- 🧰 **Librairies:** des librairies généralement de Python qui sont pertinentes pour le thème mais ne sont pas forcément abordées dans le notebook.\n",
    "- 🔗 **Référence:** liens qui qui réfèrent à la documentation ou la page web d'une librairie. \n",
    "- ⚙️ **Installation:** commande `pip` pour installer la/les librairie(s) utilisées dans le thème. \n",
    "\n",
    "Ensuite, on retrouve une série d'exemples qui possèdent la structure commune suivante:\n",
    "\n",
    "- 📝 **Contexte:** présente le contexte théorique de l'exemple souvent illustré par des figures.\n",
    "- 🧪 **Paramètres:** dans certains exemple on donne les paramètres numériques qui sont utilisé pour la suite de l'exemple.\n",
    "- ⭐ **Objectif:** présente les différentes taches que l'on va accomplir dans l'exemple. \n",
    "- 💻 **Code:** marque le début de la section de l'exemple qui contient le code Python et des cellules de commentaires. \n",
    "- 💡 **Astuces:** présente certaines notions parfois avancées sur des bonnes pratiques et des choses à prendre en compte lors de la réalisation d'un exemple similaire.\n",
    "\n",
    "À la fin de chaque thème, il y a un **📚 Lexique** qui rassemble l'ensemble des nouvelles fonctions qui ont été introduites dans chaque exemple. \n",
    "\n",
    "Toutes les cellules de code importantes sont commentées de façon extensive pour bien comprendre ce que chaque ligne fait. \n",
    "\n",
    "Le notebook permet la modification et l'execution du code, ce qui signifie que la modification est encouragée pour mieux comprendre les notions. **N'importe quelle ligne peut être modifiée, mais les lignes qui font partie des blocs de délimités par l'emoji 🕹️ sont faites spécifiquement pour être modifiées** pour jouer avec les résultats."
   ]
  },
  {
   "cell_type": "markdown",
   "metadata": {},
   "source": [
    "## Comment utiliser le notebook Jupyter ?\n",
    "\n",
    "Grace à [JupyterLite](https://github.com/jupyterlite/jupyterlite), les notebook sont déployés sur le web et permettent un développement interactif directement dans le navigateur sans avoir à installer quoi que ce soit. Le notebook roule directement sur ton ordinateur et toute modification est automatiquement sauvegardée localement ce qui veut dire que si le lien du notebook est ouvert à nouveau, la version enregistrée localement sera ouverte.\n",
    "\n",
    "### Petit tour des fonctionnalités\n",
    "\n",
    "Après avoir ouvert ce notebook, vous verrez en haut à gauche le menu de navigation principal:\n",
    "\n",
    "<center><img src=\"assets/jup_menu.png\"/></center>\n",
    "\n",
    "En cliquant sur l’icône du dossier à coté de \"/theme2/\" vous pouvez naviguer l'ensemble des dossiers qui contiennent tous les notebook. C'est pratique pour pouvoir en ouvrir plusieurs en même temps. \n",
    "\n",
    "<center><img src=\"assets/jup_root.png\"/></center>\n",
    "\n",
    "En cliquant sur le tab des 3 barres on accède à la table des matières du thème pour pouvoir avoir une vue d'ensemble des exemples et rapidement accéder à une section particulière. \n",
    "\n",
    "<center><img src=\"assets/jup_table_of_contents.png\"/></center>\n",
    "\n",
    "Avant d'executer le code du notebook, il faut s'assurer que le notebook a terminé de charger les modules nécessaires. Quand il est occupé, on peut voir en haut à droite un petit cercle plein gris. \n",
    "\n",
    "<center><img src=\"assets/jup_circle_busy.png\"/></center>\n",
    "\n",
    "Lorsque le notebook est prêt, le cercle devient vide.\n",
    "\n",
    "<center><img src=\"assets/jup_circle_idle.png\"/></center>\n",
    "\n",
    "Pour executer toutes les cellules après avoir ouvert le notebook, il suffit de cliquer sur le bouton \"Run All Cells\" dans l'onglet \"Run\".\n",
    "\n",
    "<center><img src=\"assets/jup_run_all.png\"/></center>\n",
    "\n",
    "Le temps d'execution va dépendre de la taille du notebook et de la performance de votre ordinateur. Le cercle en haut à droite nous indique la progression de l'execution des cellules. \n",
    "\n",
    "<center><img src=\"assets/jup_circle_working.png\"/></center>\n",
    "\n",
    "Pour exécuter une cellule particulière il suffit de la sélectionner en cliquant dessus et en appuyant sur `Shift + Enter` ou en cliquant sur le bouton suivant:\n",
    "\n",
    "<center><img src=\"assets/jup_run_cell.png\"/></center>"
   ]
  },
  {
   "cell_type": "markdown",
   "metadata": {},
   "source": [
    "## Comment dépanner le notebook ?\n",
    "\n",
    "### Cas 1\n",
    "\n",
    "Dans le cas où vous avez double-cliqué sur une cellule de texte, vous verrez le code Markdown qui formate la cellule. Pour revenir à son affichage normal, il suffit d'exécuter la cellule avec `Shift + Enter` ou avec le bouton montré précédemment.\n",
    "\n",
    "<center><img src=\"assets/jup_oops_md.png\"/></center>\n",
    "\n",
    "### Cas 2\n",
    "\n",
    "`Ctrl-Z` marche dans les cellules, mais s'il y a trop de modifications qui ont été apportées ou si l'on a des erreurs d'execution, il faut \"reset\" le notebook et retrouver son état original. Pour cela il faut supprimer sa version locale en faisant un clic droit sur le fichier dans le menu de navigation et en cliquant sur \"Delete\". C'est sans danger. \n",
    "\n",
    "<center><img src=\"assets/jup_delete.png\"/></center>\n",
    "\n",
    "Confirmer l'action.\n",
    "\n",
    "<center><img src=\"assets/jup_confirm_delete.png\"/></center>\n",
    "\n",
    "Fermer et rouvrir la page du notebook. Peut être aussi fait en rafraîchissant la page et en ouvrant le notebook manuellement avec le menu de navigation. La dernière version du notebook sera ouverte. \n",
    "\n",
    "JupyterLite est encore un projet expérimental et plusieurs choses ne sont pas encore très raffinées. On espère que dans le futur, la procédure sera un peu plus élégante."
   ]
  },
  {
   "cell_type": "markdown",
   "metadata": {},
   "source": [
    "## Comment utiliser le notebook sur mon ordinateur ?\n",
    "\n",
    "Bien que le notebook fonctionne dans le navigateur, il est parfois pratique de l'ouvrir sur votre ordinateur localement pour pouvoir effectuer plus de modifications ou tout simplement pour être dans le confort de l'éditeur de votre choix.\n",
    "\n",
    "On peut facilement télécharger le fichier du notebook en allant dans \"File\" puis \"Download\".\n",
    "\n",
    "<center><img src=\"assets/jup_download.png\"/></center>\n",
    "\n",
    "Sans rentrer dans les détails des installations, les étapes à effectuer sont:\n",
    "\n",
    "- Installer une distribution de [Python](https://www.python.org/downloads/).\n",
    "- Pour une installation sous Windows, il faut s'assurer que Python est dans le PATH. Voir [ici](https://www.educative.io/answers/how-to-add-python-to-path-variable-in-windows) comment vérifier et l'ajouter.\n",
    "- Installer les libraries utilisées dans le thème avec `pip` (voir section ⚙️ Installation)\n",
    "- Installer un éditeur qui supporte les notebook Jupyter ([VSCode](https://code.visualstudio.com/) ou [PyCharm](https://www.jetbrains.com/pycharm/) recommandé). Après avoir ouvert un notebook dans ces éditeurs, suivre les instructions pour installer les extensions ou configurations nécessaires.\n",
    "\n",
    "todo: parler de miniconda"
   ]
  },
  {
   "cell_type": "markdown",
   "metadata": {},
   "source": [
    "## Comment contribuer au projet ?\n",
    "\n",
    "L'entièreté du projet est disponible sur [Github](https://github.com/gch-faps/faps-python) sous la license libre MIT. \n",
    "\n",
    "Le feedback, correction d'erreurs et les questions sont les bienvenues, il suffit d'ouvrir une issue sur le Github. 🙂"
   ]
  }
 ],
 "metadata": {
  "kernelspec": {
   "display_name": "Python 3.9.0 64-bit",
   "language": "python",
   "name": "python3"
  },
  "language_info": {
   "name": "python",
   "version": "3.9.0"
  },
  "vscode": {
   "interpreter": {
    "hash": "25034407fed5d681614dac11a1c0537e8cb49e3a8883c071303eea01322943d9"
   }
  }
 },
 "nbformat": 4,
 "nbformat_minor": 2
}
