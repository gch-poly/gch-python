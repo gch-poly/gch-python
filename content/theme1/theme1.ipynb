{
 "cells": [
  {
   "cell_type": "markdown",
   "metadata": {},
   "source": [
    "# <h1 align=\"center\"> THEME 1 - Présentation du Projet</h1>\n",
    "\n",
    "Cette collection d'exemples est un outil d’auto-apprentissage destiné à couvrir l’ensemble des approches de programmation scientifique en génie chimique à l'aide d'exemples concrets. \n",
    "\n",
    "Ces exemples sont groupés en thèmes scientifiques qui sont couramments vu en génie chimique. Chaque thème est présenté sous forme d'un notebook Jupyter qui permet la modification et l'éxécution du code.\n",
    "\n",
    "## Qu'est-ce qu'un notebook Jupyter ?\n",
    "\n",
    "Très utilisé dans le domaine de la science des données, le notebook Jupyter (fichier `.ipynb`) est un document divisé en cellules de texte (formatté en [Markdown](https://www.markdownguide.org/basic-syntax/)) et de code [Python](https://www.python.org/). Chaque cellule peut être exécutée individuellement et dans le cas des cellules de code, les variables créées dans une cellule sont disponibles dans l'ensemble du notebook. \n",
    "\n",
    "Comparé à un fichier de code `.py` classique, un notebook Jupyter présente plusieurs avantages :\n",
    "\n",
    "- L'execution par cellule dans un notebook permet de modifier du code sans avoir à re-executer tout le code précédent. Cela est particulièrement utile par exemple pour générer une nouvelle figure sans refaire le calcul des données sources. \n",
    "- L'affichage de figures est plus simple et persistant puisque qu'elle apparait directement en dessous de la cellule qui a généré la figure.\n",
    "- Les cellules de textes permettent de créer de beaux documents, ajouter des figures, des équations en $LaTeX$, ajouter des liens et bien plus.\n",
    "\n",
    "## Comment est organisé un thème ?\n",
    "\n",
    "Au début du notebook, on retrouve:\n",
    "\n",
    "- 🎯 **Objectifs:** présente de façon très synthétique les éléments approchés dans le thème.\n",
    "- ✒️ **Notions:** notions de programmation concrètes qui sont acquises au fil de chaque exemple. \n",
    "- 🧰 **Librairies:** des librairies généralement de Python qui sont pertinentes pour le thème mais ne sont pas forcément abordées dans le notebook.\n",
    "- 🔗 **Référence:** liens qui qui réfèrent à la documentation ou la page web d'une librairie. \n",
    "- ⚙️ **Installation:** commande `pip` pour installer la/les librairie(s) utilisées dans le thème. \n",
    "\n",
    "Ensuite, on retrouve une série d'exemples qui possèdent la structure commune suivante:\n",
    "\n",
    "- 📝 **Contexte:** présente le contexte théorique de l'exemple souvent illustré par des figures.\n",
    "- 🧪 **Paramètres:** dans certains exemple on donne les paramètres numériques qui sont utilisé pour la suite de l'exemple.\n",
    "- ⭐ **Objectif:** présente les différentes taches que l'on va accomplir dans l'exemple. \n",
    "- 💻 **Code:** marque le début de la section de l'exemple qui contient le code Python et des cellules de commentaires. \n",
    "- 💡 **Astuces:** présente certaines notions parfois avancées sur des bonnes pratiques et des choses à prendre en compte lors de la réalisation d'un exemple similaire.\n",
    "\n",
    "À la fin de chaque thème, il y a un **📚 Lexique** qui rassemble l'ensemble des nouvelles fonctions qui ont été introduites dans chaque exemple. \n",
    "\n",
    "Toutes les cellules de code importantes sont commentées de façon extensive pour bien comprendre ce que chaque ligne fait. \n",
    "\n",
    "Le notebook permet la modification et l'execution du code, ce qui signifie que la modification est encouragée pour mieux comprendre les notions. **N'importe quelle ligne peut être modifiée, il est cependant recommandé de modifier uniquement les lignes qui font partie des blocs de délimités par l'emoji 🕹️** pour éviter de causer une erreur.\n",
    "\n",
    "## Comment utiliser le notebook Jupyter ?\n",
    "\n"
   ]
  },
  {
   "cell_type": "markdown",
   "metadata": {},
   "source": [
    "Grace à [JupyterLite](https://github.com/jupyterlite/jupyterlite), les notebook sont déployés sur le web et permettent un developpement interactif directement dans le navigateur sans avoir à installer quoi que ce soit.\n",
    "\n",
    "\n",
    "\n"
   ]
  }
 ],
 "metadata": {
  "kernelspec": {
   "display_name": "Python 3.9.0 64-bit",
   "language": "python",
   "name": "python3"
  },
  "language_info": {
   "name": "python",
   "version": "3.9.0"
  },
  "vscode": {
   "interpreter": {
    "hash": "25034407fed5d681614dac11a1c0537e8cb49e3a8883c071303eea01322943d9"
   }
  }
 },
 "nbformat": 4,
 "nbformat_minor": 2
}
