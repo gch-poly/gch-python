{
 "cells": [
  {
   "cell_type": "markdown",
   "metadata": {},
   "source": [
    "# <h1 align=\"center\"> THEME 2 - Calculs numériques </h1>\n",
    "\n",
    "### 🎯 Objectifs\n",
    "\n",
    "- Effectuer des calculs vectoriels et matriciels avec le module Numpy\n",
    "- Utiliser diverses fonctions disponibles pour résoudre des problèmes en GCH incluant des systèmes d'équations linéaires\n",
    "\n",
    "### 📚 Notions \n",
    "\n",
    "- [Exemple 1](#ex1): \n",
    "    - Indexation de vecteurs.\n",
    "    - Opérations par vectorisation plutot que l'utilisation de boucles.\n",
    "    - Masques binaires pour isoler des éléments.\n",
    "- [Exemple 2](#ex2): \n",
    "    - Indexation de matrices.\n",
    "    - Opérations entre matrices.\n",
    "    - Résolution de systèmes linéaires.\n",
    "- [Exemple 3](#ex3):\n",
    "    - Remplissage d'une matrice.\n",
    "    - Modification d'une colonne/ligne entière plutot que par élément. \n",
    "- [Exemple 4](#ex4):\n",
    "    - Transition entre forme 1D et 2D\n",
    "    - Manipulation de la forme des arrays\n",
    "    - Remplissage d'une matrice de façon procédurale\n",
    "\n",
    "Un [lexique](#lexique) avec l'ensemble des fonctions qui ont été vues est disponible à la fin du notebook.\n",
    "\n",
    "### 🧰 Librairies\n",
    "\n",
    "- **Numpy** est une librairie fondamentale pour le calcul scientifique sur Python. Elle permet de créer des vecteurs de n dimensions facilement et met à disposition une variété de fonctions optimisées pour des transformées, l'algèbre linéaire, opérations statistiques, calculs mathématiques, etc...\n",
    "\n",
    "### ⚙️ Installation\n",
    "\n",
    "`pip install numpy` \n",
    "\n",
    "### 🔗 Référence\n",
    "\n",
    "- [Documentation Numpy](https://numpy.org/doc/stable/reference/)\n",
    "\n",
    "---"
   ]
  },
  {
   "cell_type": "markdown",
   "metadata": {},
   "source": [
    "## <h2 align=\"center\" id='ex1'> Exemple 1 - Loi d'Arrhenius </h2>\n",
    "\n",
    "### 📝 Contexte\n",
    "En cinétique chimique, la loi d'Arrhenius permet de décrire la variation de la vitesse d'une réaction chimique en fonction de la température en suvant la relation suivante: \n",
    "\n",
    "$$\n",
    "\\begin{aligned}\n",
    "k=A \\cdot \\mathrm{e}^{\\frac{-E_{A}}{R T}}\n",
    "\\end{aligned}\n",
    "$$\n",
    "\n",
    "- $k$, coefficient de vitesse de la réaction\n",
    "- $A$, facteur pré-exponentiel\n",
    "- $T$, température en K\n",
    "- $R$, constante des gazs parfaits\n",
    "- $E_{A}$, énergie d'activation\n",
    "\n",
    "### ⭐ Objectif\n",
    "\n",
    "Calculer la vitesse d'une réaction chimique $k$ pour huit (8) températures différentes allant de 300 à 1000 K."
   ]
  },
  {
   "cell_type": "markdown",
   "metadata": {},
   "source": [
    "### 💻 Code\n",
    "\n",
    "On commence par importer la librairie numpy et d'initialiser les constantes du problème."
   ]
  },
  {
   "cell_type": "code",
   "execution_count": null,
   "metadata": {},
   "outputs": [],
   "source": [
    "import numpy as np\n",
    "import matplotlib.pyplot as plt  # Sera vu plus en détail dans le thème 3\n",
    "\n",
    "A = 9.0  # (1/s)\n",
    "R = 8.314  # (kPa.L/mol.K)\n",
    "E_A = 200  # (kJ/mol)\n",
    "\n",
    "vec_T = np.array([300, 400, 500, 600, 700, 800, 900, 1000])  # Creation manuelle du vecteur de températures"
   ]
  },
  {
   "cell_type": "markdown",
   "metadata": {},
   "source": [
    "Pour discretiser T automatiquement, on a le choix entre:\n",
    "- `np.arange(debut, fin, pas)`: génère les points à partir d'un pas $\\Delta T$ spécifique\n",
    "- `np.linspace(debut, fin, nb de points)`: génère le nombre de points voulus espacés linéairement\n",
    "\n",
    "Ces fonctions retournent un vecteur des valeurs. "
   ]
  },
  {
   "cell_type": "code",
   "execution_count": null,
   "metadata": {},
   "outputs": [],
   "source": [
    "vec_T = np.linspace(300, 1000, 8)  # Discrétisation linéaire de 8 points entre 300 et 1000 K\n",
    "print(\"Le vecteur de température vec_T est: \", vec_T)\n",
    "\n",
    "print(vec_T[2])  # Affiche le 3e élément de T puisque l'indexation commence toujours à 0 et termine à 7 dans ce cas-ci\n",
    "print(vec_T[-1])  # Affiche le dernier élément de T\n",
    "print(vec_T[:2])  # Affiche les 2 premiers éléments de T, soit du début à l'indice 1 car l'indice 2 est exclu\n",
    "print(vec_T[6:])  # Affiche les 2 derniers éléments de T, soit de l'indice 6 à la fin\n",
    "print(vec_T[5:-1])  # Affiche les valeurs entre l'indice 5 et le dernier élement du vecteur tout en excluant ce dernier\n",
    "print(vec_T[0:6:2])  # Affiche les éléments de T allant de l'indice 0 à l'indice 5 en bonds de 2, l'indice 6 étant exclu"
   ]
  },
  {
   "cell_type": "markdown",
   "metadata": {},
   "source": [
    "Pour calculer les valeurs de $k$ à chacunes de ces températures, plutôt que d'utiliser une boucle `for` pour passer à travers les valeurs de T, il est mieux d'utiliser les capacités de **vectorisaton** de Numpy pour effectuer les opérations directement avec le vecteur T. \n",
    "\n",
    "- Un vecteur multiplié, divisé ou élevé à la puissance par un scalaire va effectuer l'opération sur chacun de ses éléments. \n",
    "- 2 vecteurs peuvent subir toutes les opérations mathématiques entre eux tant que leurs dimensions sont égales. "
   ]
  },
  {
   "cell_type": "code",
   "execution_count": null,
   "metadata": {},
   "outputs": [],
   "source": [
    "vec_k = A * np.exp(-E_A / (R * vec_T))  # np.exp retourne la valeur de l'exponentielle\n",
    "\n",
    "plt.plot(vec_T, vec_k)\n",
    "plt.show()\n",
    "\n",
    "# Puisque le calcul est effectué sur 101 points, le vecteur k contient 101 éléments\n",
    "print(vec_k.size)  # k.size ou len(k) retourne le nombre d'élements du vecteur"
   ]
  },
  {
   "cell_type": "markdown",
   "metadata": {},
   "source": [
    "Les expressions booléennes de numpy permettent d'exprimer des conditions qui vont être évaluées pour chaque élément du vecteur et retourner un `True` ou `False` pour chaque valeur. Les opérateurs disponibles sont `<, >, !=` et `==`. "
   ]
  },
  {
   "cell_type": "code",
   "execution_count": null,
   "metadata": {},
   "outputs": [],
   "source": [
    "np.random.seed(0)\n",
    "vec_k_rand = np.random.choice(vec_k, 10)  # Choisit 10 éléments aléatoirement du vecteur k\n",
    "\n",
    "print(vec_k_rand)\n",
    "print(vec_k_rand > 8.5)  # Vecteur booléen qui retourne True pour les éléments de k supérieurs à 8.5\n",
    "print(~(vec_k_rand < 8.7))  # ~ inverse le booléen\n",
    "print((vec_k_rand > 8.5) & (vec_k_rand < 8.7))  # & = ET, | = OU\n",
    "print(vec_k_rand[(vec_k_rand < 8.7)])  # Retourne un vecteur des valeurs de k inférieures à 8.7\n",
    "print((vec_k_rand < 8.7).nonzero()[0])  # Retourne un vecteur des indices des valeurs de k inférieures à 8.7"
   ]
  },
  {
   "cell_type": "markdown",
   "metadata": {},
   "source": [
    "### 💡 Astuces\n",
    "- Quand on utilise des vecteurs, il est important de faire attention que les unités soient consistantes, c'est à dire éviter de multiplier un vecteur d'entiers par un vecteur de décimaux.\n",
    "- Il est courant d'avoir l'erreur: `IndexError` au début, cela veut très souvent dire que le vecteur a été indexé avec une valeur plus grande que sa taille. Par exemple, le dernier indice d'un vecteur correspond toujours à **un de moins** que la longueur du même vecteur évalué avec `len`.\n",
    "\n",
    "---"
   ]
  },
  {
   "cell_type": "markdown",
   "metadata": {},
   "source": [
    "## <h2 align=\"center\" id='ex2'> Exemple 2 - Combustion d’un mélange gazeux </h2>\n",
    "\n",
    "### 📝 Contexte\n",
    "\n",
    "Un mélange gazeux composé de méthane, d’éthane et de propane est brûlé dans une fournaise avec de l’air en excès. Les débits molaires des gaz de combustion à la sortie de la fournaise sont connus.\n",
    "\n",
    "Les trois réactions se déroulant dans la fournaise sont les suivantes :\n",
    "\n",
    "$$\n",
    "\\begin{gathered}\n",
    "\\mathrm{CH}_{4}+2 \\mathrm{O}_{2} \\rightarrow \\mathrm{CO}_{2}+2 \\mathrm{H}_{2} \\mathrm{O} \\\\\n",
    "\\mathrm{C}_{2} \\mathrm{H}_{6}+3.5 \\mathrm{O}_{2} \\rightarrow 2 \\mathrm{CO}_{2}+3 \\mathrm{H}_{2} \\mathrm{O} \\\\\n",
    "\\mathrm{C}_{3} \\mathrm{H}_{8}+5 \\mathrm{O}_{2} \\rightarrow 3 \\mathrm{CO}_{2}+4 \\mathrm{H}_{2} \\mathrm{O}\n",
    "\\end{gathered}\n",
    "$$\n",
    "\n",
    "Le débit à l'entrée du méthane est connu.\n",
    "$$\n",
    "\\begin{aligned}\n",
    "n_{C H 4}=4.12 \\mathrm{~mol} / \\mathrm{s}\n",
    "\\end{aligned}\n",
    "$$\n",
    "\n",
    "Connaissant les débits à la sortie de la fournaise, un bilan atomique sur le carbone et un autre sur l'hydrogène entre l'entrée et la sortie ont pu être faits.\n",
    "$$\n",
    "\\begin{aligned}\n",
    "n_{C H 4}+2 n_{C 2 H 6}+3 n_{C 3 H 8}=6.92\n",
    "\\end{aligned}\n",
    "$$\n",
    "$$\n",
    "\\begin{aligned}\n",
    "4 n_{C H 4}+6 n_{C 2 H 6}+8 n_{C 3 H 8}=24.48\n",
    "\\end{aligned}\n",
    "$$\n",
    "\n",
    "### ⭐ Objectif\n",
    "\n",
    "Trouver les débits d'éthane $n_{C 2 H 6}$ et de propane $n_{C 3 H 8}$ par résolution du système d'équation linéaire sous forme matricielle $An = b$."
   ]
  },
  {
   "cell_type": "markdown",
   "metadata": {},
   "source": [
    "### 💻 Code\n",
    "\n",
    "Dans Numpy, les matrices sont représentées par un vecteur qui contient plusieurs vecteurs qui font office de lignes, autrement dit, un vecteur 2D. L'indexation des matrices dans Numpy est basée sur les lignes, cela veut dire que l'indexation se fait par `[ligne, colonne]`. Sinon, l'indexation fonctionne de la même façon que les vecteurs.  "
   ]
  },
  {
   "cell_type": "code",
   "execution_count": null,
   "metadata": {},
   "outputs": [],
   "source": [
    "# Creation matrice des coefficients A\n",
    "mat_A = np.array([[1, 0, 0], [1, 2, 3], [4, 6, 8]])\n",
    "print(mat_A)\n",
    "print(mat_A[1, 1])  # Affiche la valeur de la 2ème ligne et de la 2ème colonne\n",
    "print(mat_A[1:, 1])  # Affiche la 2ème colonne à partir de la 2ème ligne\n",
    "print(mat_A[2, :])  # Affiche la 3ème ligne\n",
    "\n",
    "# Création du vecteur b\n",
    "vec_b = np.array([4.12, 6.92, 24.48])"
   ]
  },
  {
   "cell_type": "markdown",
   "metadata": {},
   "source": [
    "Pour toute opération d'algèbre linéaire, le sous module `np.linalg` contient plein de fonctions utiles telles que `np.linalg.solve` pour résoudre un système $Ax=b$ et `np.linalg.inv` pour inverser une matrice. L'opérateur `@` est utilisé pour la multiplication matricielle. "
   ]
  },
  {
   "cell_type": "code",
   "execution_count": null,
   "metadata": {},
   "outputs": [],
   "source": [
    "vec_n = np.linalg.solve(mat_A, vec_b)  # ou np.linalg.inv(mat_A) @ vec_b\n",
    "\n",
    "# Afficher le vecteur solution, c'est-à-dire les débits molaire de méthane, d'éthane et de propane à la sortie de la fournaise (mol/s)\n",
    "print(vec_n)"
   ]
  },
  {
   "cell_type": "markdown",
   "metadata": {},
   "source": [
    "## <h2 align=\"center\" id='ex3'> Exemple 3 - Interpolation Polynomiale</h2>\n",
    "\n",
    "### 📝 Contexte\n",
    "Lorsque l'on va au laboratoire pour déterminer les propriétés d’un matériau ou la vitesse d’une réaction, nous nous retrouvons avec des données discrètes, c’est à dire des couples de point $xi$ auquel nous associons une mesure (que nous appellerons fonction) $f(xi)$. Le but de l’interpolation sera de trouver un moyen d’évaluer $f(x)$ pour $x \\neq xi$. \n",
    "\n",
    "L'une de ces méthodes d'interpolation est l'interpolation polynomiale, qui consiste à construire un polynome de degré $n$ si l'on a $n-1$ points de référence. \n",
    "\n",
    "$$\n",
    "\\begin{aligned}\n",
    "p_{n}(x)= \\sum_{i = 0}^{n} a_{i} x^{i} = a_{0}+a_{1} x+a_{2} x^{2}+a_{3} x^{3}+\\ldots+a_{n} x^{n}\n",
    "\\end{aligned}\n",
    "$$\n",
    "\n",
    "On trouve les coefficients $a_{n}$ en résolvant le système $Aa = f$ où $A$ est la matrice de Vandermonde:\n",
    "\n",
    "$$\n",
    "\\begin{align*}\n",
    "\\left[\\begin{array}{ccccc}\n",
    "1 & x_{0} & x_{0}^{2} & \\cdots & x_{0}^{n} \\\\\n",
    "1 & x_{1} & x_{1}^{2} & \\cdots & x_{1}^{n} \\\\\n",
    "1 & x_{2} & x_{2}^{2} & \\cdots & \\vdots \\\\\n",
    "\\vdots & \\vdots & \\vdots & \\ddots & \\vdots \\\\\n",
    "1 & x_{n} & x_{n}^{2} & \\cdots & x_{n}^{n}\n",
    "\\end{array}\\right]\\left[\\begin{array}{c}\n",
    "a_{0} \\\\\n",
    "a_{1} \\\\\n",
    "a_{2} \\\\\n",
    "\\vdots \\\\\n",
    "a_{n}\n",
    "\\end{array}\\right]=\\left[\\begin{array}{c}\n",
    "f\\left(x_{0}\\right) \\\\\n",
    "f\\left(x_{1}\\right) \\\\\n",
    "f\\left(x_{2}\\right) \\\\\n",
    "\\vdots \\\\\n",
    "f\\left(x_{n}\\right)\n",
    "\\end{array}\\right]\n",
    "\\end{align*}\n",
    "$$\n",
    "\n",
    "### ⭐ Objectif\n",
    "\n",
    "Évaluer la fonction $f(x)=\\frac{1}{1+25x^2}$ à 5 points espacés régulièrement et construire un polynome d'interpolation (degré 4)."
   ]
  },
  {
   "cell_type": "markdown",
   "metadata": {},
   "source": [
    "### 💻 Code\n",
    "\n",
    "Puisque nous avons l'intention d'évaluer la fonction sur une discrétisation de x, il est pratique de la définir dans une fonction qui a pour entrée ce vecteur."
   ]
  },
  {
   "cell_type": "code",
   "execution_count": null,
   "metadata": {},
   "outputs": [],
   "source": [
    "def fn(vec_x):\n",
    "    \"\"\"\n",
    "    Fonction qui évalue la fontion f(x)\n",
    "    Args:\n",
    "        vec_x (ndarray): Vecteur des points à évaluer\n",
    "\n",
    "    Returns:\n",
    "        ndarray: Vecteur des valeurs de la fonction f(x)\n",
    "    \"\"\"\n",
    "    return 1 / (1 + 25 * vec_x**2)\n",
    "\n",
    "\n",
    "n = 5  # Nombre de points utilisés pour l'interpolation\n",
    "vec_xi = np.linspace(-1, 1, n)\n",
    "vec_yi = fn(vec_xi)\n",
    "\n",
    "print(vec_xi)"
   ]
  },
  {
   "cell_type": "markdown",
   "metadata": {},
   "source": [
    "Il y a plusieurs façons de créer la matrice de Vandermonde. \n",
    "\n",
    "Une première approche consiste à constuire la matrice ligne par ligne à l'aide d'une boucle `for` et de remplir cette ieme ligne par le ieme élément du vecteur x succéssivement élevé à une puissance supérieure."
   ]
  },
  {
   "cell_type": "code",
   "execution_count": null,
   "metadata": {},
   "outputs": [],
   "source": [
    "# Créer une matrice de zéros de 5 lignes et 5 colonnes (car degré 4)\n",
    "mat_vdm = np.zeros((n, n))\n",
    "\n",
    "# Passer à travers les lignes de la matrice\n",
    "for i in range(n):\n",
    "    # Passer à travers les colonnes de la matrice\n",
    "    for j in range(n):\n",
    "        # La valeur à la ieme colonne correspond a la valeur élevée à la ieme puissance\n",
    "        # Par exemple, si j = 0, une puissance nulle donne toujours une valeur de 1\n",
    "        mat_vdm[i, j] = vec_xi[i] ** j\n",
    "\n",
    "print(mat_vdm)"
   ]
  },
  {
   "cell_type": "markdown",
   "metadata": {},
   "source": [
    "Cette approche, tout étant fonctionnelle, ne prend pas avantage des capacités de vectorisation de Numpy. On remarque que la ieme colonne de la matrice de Vandermonde n'est qu'en fait le vecteur des points d'interpolation élevés à la ieme puissance. Une seule boucle `for` en `i` est nécessaire pour constuire la matrice de Vandermonde."
   ]
  },
  {
   "cell_type": "code",
   "execution_count": null,
   "metadata": {},
   "outputs": [],
   "source": [
    "# Passer à travers les colonnes de la matrice\n",
    "for i in range(n):\n",
    "    mat_vdm[:, i] = vec_xi**i  # Remplire la ième colonne de la matrice par les éléments de vec_x^i\n",
    "\n",
    "print(mat_vdm)"
   ]
  },
  {
   "cell_type": "markdown",
   "metadata": {},
   "source": [
    "Cela a pour double bénéfice d'être plus efficace et plus lisible. \n",
    "\n",
    "Enfin, le système est résolu pour trouver les coefficients du polynôme et ce dernier est évalué sur une discrétisation plus fine de x."
   ]
  },
  {
   "cell_type": "code",
   "execution_count": null,
   "metadata": {},
   "outputs": [],
   "source": [
    "vec_a = np.linalg.inv(mat_vdm) @ vec_yi  # Résolution du système\n",
    "print(vec_a)\n",
    "\n",
    "vec_x = np.linspace(-1, 1, 100)  # Discrétisation plus fine de x\n",
    "vec_y_analytique = fn(vec_x)  # Évaluation de la fonction analytique\n",
    "\n",
    "# L'évaluation du polynome interpolateur est faite par la somme des coefficients multipliés par la puissance de x.\n",
    "# À chaque itération de la boucle, on ajoute la valeur d'un terme évalué sur le vecteur x.\n",
    "vec_y_interp = np.zeros(100)\n",
    "for i in range(n):\n",
    "    vec_y_interp += vec_a[i] * vec_x**i\n",
    "\n",
    "# Affichage graphique (vu en détail dans le thème 2)\n",
    "plt.plot(vec_x, vec_y_analytique, label=\"Analytique\")\n",
    "plt.plot(vec_x, vec_y_interp, label=\"Interpolée\")\n",
    "plt.legend()\n",
    "plt.show()"
   ]
  },
  {
   "cell_type": "markdown",
   "metadata": {},
   "source": [
    "### 💡 Astuces\n",
    "\n",
    "- Pour du déboguage, l'utilisation de  `print(A.shape)` affiche la taille de la matrice `A` ce qui peut être utile pour déterminer si une matrice est mal formée.\n",
    "- Observer la forme des matrices pour voir si elles peuvent être construites directement par un vecteur plutôt que par éléments."
   ]
  },
  {
   "cell_type": "markdown",
   "metadata": {},
   "source": [
    "## <h2 align=\"center\" id='ex4'> Exemple 4 - Floutage 2D </h2>\n",
    "\n",
    "### 📝 Contexte\n",
    "\n",
    "L'operation de floutage 2D est une opération très utile dans une variété de domaines et agit comme un filtre passe-bas pour réduire le bruit d'une image ou de données expérimentales. Cet exemple porte sur le floutage d'une image *grayscale* afin de faciliter la compréhension de l'algorithme. \n",
    "\n",
    "L'algorithme consiste à remplacer la valeur de chaque pixel de l'image par une nouvelle valeur calculée en faisant une somme pondérée des ses pixels voisins. Les coefficients de cette somme pondérée sont spécifiés dans une matrice de convolution. \n",
    "<center>\n",
    "  <img src=\"https://raw.githubusercontent.com/gch-faps/faps-python/main/theme2/assets/blur_kernel.png\" />\n",
    "</center>\n",
    "\n",
    "La matrice de convolution que l'on va utiliser est une matrice de convolution gaussienne 3x3. La nouvelle valeur du pixel est la somme de son ancienne valeur multipliée par $\\frac{1}{4}$, des 4 pixels voisins par $\\frac{1}{8}$ et des 4 pixels diagonaux par $\\frac{1}{16}$.\n",
    "\n",
    "Pour des raisons de complexité, plutôt que d'effectuer une convolution, l'opération sera réduite à la multiplication entre une grande matrice des coefficients de Gauss $A$ et un vecteur $\\vec{p}$ contenant tous les pixels de l'image, réduisant le problème à une seule dimension (1D). Avant de faire cela, il faut que l'on passe d'une matrice de pixels à un vecteur et comprendre la numérotation qui en découle.\n",
    "\n",
    "<center>\n",
    "  <img width=300px src=\"https://raw.githubusercontent.com/gch-faps/faps-python/main/theme2/assets/ex3_0.svg\">\n",
    "</center>\n",
    "\n",
    "En prenant $n_{x}$ comme le nombre de pixels sur $x$ de l'image (ici 4), la fonction $C(x,y)$ permettant de transformer les coordonnées 2D en indice vectoriel 1D est: $C(x,y) = x + n_{x}*y$. Par exemple, la coordonnée 1D du pixel $(x,y) = (1,1)$ correspond à $C(1,1) = 1+4*1 = 5$. Comme il est possible de remarquer sur la figure ci-dessous, l'indice 5 se trouve bel et bien à la position $(1,1)$. Ainsi, grâce à cette équation, on peut déterminer les points voisins et diagonaux en 1D et construire notre matrice gaussienne avec les bons coefficients.\n",
    "\n",
    "<center>\n",
    "  <img width=300px src=\"https://raw.githubusercontent.com/gch-faps/faps-python/main/theme2/assets/ex3_1.svg\" />\n",
    "</center>\n",
    "\n",
    "Pour flouter un pixel, sa nouvelle valeur devient:\n",
    "\n",
    "$$\n",
    "\\begin{aligned}\n",
    "2D &: p(x,y) = \\frac{1}{16} \\left[ 4p(x,y)+2(p(x+1,y) + p(x-1,y) + p(x,y-1) + p(x,y+1)) + p(x-1,y+1) + p(x+1,y+1) + p(x-1,y-1) + p(x+1,y-1) \\right] \\\\\n",
    "1D &: p(i) = \\frac{1}{16} \\left[ 4p(i)+2(p(i+1) + p(i-1) + p(i+n_{x}) + p(i-n_{x})) + p(i+n_{x}-1) + p(i+n_{x}-1) + p(i-n_{x}-1) + p(i-n_{x}+1) \\right]\n",
    "\\end{aligned}\n",
    "$$\n",
    "\n",
    "Les pixels qui forment le contour de l'image ne subissent pas d'altération, le coefficient est donc de 1 sur la diagonale pour les lignes qui correspondent à ces pixels. La matrice creuse $A$ est donc:\n",
    "\n",
    "<center>\n",
    "  <img width=500px src=\"https://raw.githubusercontent.com/gch-faps/faps-python/main/theme2/assets/ex3_2.svg\" />\n",
    "</center>\n",
    "\n",
    "### ⭐ Objectif\n",
    "\n",
    "Écrire une fonction qui permet de constuire la matrice $A$ selon les coefficients de Gauss et flouter une image. \n",
    "\n"
   ]
  },
  {
   "cell_type": "markdown",
   "metadata": {},
   "source": [
    "### 💻 Code\n",
    "\n",
    "La première étape est de trouver les indices des pixels qui ne sont pas sur la bordure de l'image. La solution ici fait appel à `np.reshape()` qui permet de changer la forme du vecteur ou de la matrice tant que le nombre d'élément total ne change pas. Par exemple, un vecteur `vec` de longueur 4, peut être transformé en une matrice 2x2 avec `np.reshape(vec,(2,2))` ou plus simplement `vec.reshape((2,2))`: les deux premiers éléments du vecteurs vont former la premiere ligne et les deux derniers la deuxième ligne. \n",
    "\n",
    "La fonction `ndarray.flatten()` ramène un array de dimensions multiple à un vecteur 1D. "
   ]
  },
  {
   "cell_type": "code",
   "execution_count": null,
   "metadata": {},
   "outputs": [],
   "source": [
    "mat_img = np.array([[20, 20, 80, 140], [110, 150, 200, 50], [60, 130, 70, 50]])  # Image de l'énoncé\n",
    "\n",
    "# Création d'une matrice de la même taille que l'image à partir d'un vecteur d'éléments de 0 à mat_img.size-1\n",
    "mat_idx = np.arange(0, mat_img.size).reshape(mat_img.shape)\n",
    "print(mat_idx)\n",
    "\n",
    "# On sélectionne tous les éléments à l'exception des bords et on ramène le tout à un vecteur 1D avec .flatten()\n",
    "vec_idx_center = mat_idx[1:-1, 1:-1].flatten()\n",
    "print(vec_idx_center)"
   ]
  },
  {
   "cell_type": "markdown",
   "metadata": {},
   "source": [
    "On remarque que la diagonale de la matrice A n'est jamais nulle, alors plutôt qu'initialiser la matrice avec `np.zeros` on peut utiliser `np.eye` ce qui créé une matrice avec une diagonale de 1 (matrice identité).\n",
    "Il ne reste qu'à remplir les lignes qui correspondent aux pixels qui ne sont pas aux bords de l'image avec les coefficients de Gauss. "
   ]
  },
  {
   "cell_type": "code",
   "execution_count": null,
   "metadata": {},
   "outputs": [],
   "source": [
    "A = 16 * np.eye(mat_img.size, dtype=np.uint8)  # Creation de la matrice A avec des 16 sur la diagonale\n",
    "nx = mat_img.shape[0]  # nx correspond au nombre de pixels sur x\n",
    "\n",
    "# Les deux vecteurs créés ci-dessous vont contenir les indices des pixels voisins et diagonaux (4 de chaque)\n",
    "# Numpy permet d'indexer un vecteur avec un autre vecteur ce qui permet de changer les valeurs du coefficient de ces pixels\n",
    "vec_idx_voisins = np.zeros(4, dtype=np.uint16)\n",
    "vec_idx_diag = np.zeros(4, dtype=np.uint16)\n",
    "\n",
    "# Passer à travers chaque ligne des pixels qui ne sont pas sur le bord\n",
    "for i in vec_idx_center:\n",
    "    A[i, i] = 4  # Coefficient du pixel même est 4\n",
    "    vec_idx_voisins[:] = [i + 1, i - 1, i + nx, i - nx]  # Calcul des indices des 4 voisins\n",
    "    vec_idx_diag[:] = [i - 1 + nx, i + 1 + nx, i + 1 - nx, i - 1 - nx]  # Calcul des indices des 4 voisins diagonaux\n",
    "    A[i, vec_idx_voisins] = 2  # Coefficient des voisins est 2\n",
    "    A[i, vec_idx_diag] = 1  # Coefficient des voisins diagonaux est 1\n",
    "\n",
    "print(A)"
   ]
  },
  {
   "cell_type": "markdown",
   "metadata": {},
   "source": [
    "La matrice A étant constuite, il ne reste qu'à la multiplier avec le vecteur des pixel originaux pour obtenir l'image floutée. On regroupe d'abord l'ensemble du code présenté ci-dessus dans une fonction:"
   ]
  },
  {
   "cell_type": "code",
   "execution_count": null,
   "metadata": {},
   "outputs": [],
   "source": [
    "def blur_img(mat_img):\n",
    "    \"\"\"\n",
    "    Fonction qui floute une matrice 2D (image par exemple)\n",
    "    Args:\n",
    "        mat_img: Matrice de l'image\n",
    "\n",
    "    Returns:\n",
    "        Matrice de pixels de l'image floutée\n",
    "    \"\"\"\n",
    "    # Identification des indices 1D des pixels qui ne sont pas sur le bord\n",
    "    mat_idx = np.arange(0, mat_img.size).reshape(mat_img.shape)\n",
    "    vec_idx_center = mat_idx[1:-1, 1:-1].flatten()\n",
    "\n",
    "    # Création de la matrice A\n",
    "    A = 16 * np.eye(mat_img.size, mat_img.size, dtype=np.uint16)\n",
    "    nx = mat_img.shape[0]\n",
    "\n",
    "    # Remplissage de la matrice A avec les coefficients d'une matrice de convolution gaussienne\n",
    "    vec_idx_voisins = np.zeros(4, dtype=np.uint16)\n",
    "    vec_idx_diag = np.zeros(4, dtype=np.uint16)\n",
    "    for i in vec_idx_center:\n",
    "        A[i, i] = 4\n",
    "        vec_idx_voisins[:] = [i + 1, i - 1, i + nx, i - nx]\n",
    "        vec_idx_diag[:] = [i - 1 + nx, i + 1 + nx, i + 1 - nx, i - 1 - nx]\n",
    "        A[i, vec_idx_voisins] = 2\n",
    "        A[i, vec_idx_diag] = 1\n",
    "\n",
    "    # Calcul de la nouvelle valeurs des pixels floutés\n",
    "    mat_img_blurred = A @ mat_img.flatten()\n",
    "\n",
    "    return np.floor_divide(mat_img_blurred, 16).reshape(mat_img.shape)"
   ]
  },
  {
   "cell_type": "markdown",
   "metadata": {},
   "source": [
    "On peut maintenant tester la fonction sur une vraie image."
   ]
  },
  {
   "cell_type": "code",
   "execution_count": null,
   "metadata": {},
   "outputs": [],
   "source": [
    "from urllib.request import urlopen  # Librairie pour accéder à une image sur internet\n",
    "import PIL.Image as Image  # Librairie pour ouvrir et traiter des images\n",
    "\n",
    "# Ouverture de l'image de lenna\n",
    "url = \"https://raw.githubusercontent.com/gch-faps/faps-python/main/theme2/assets/lenna_200.png\"\n",
    "img = Image.open(urlopen(url))\n",
    "\n",
    "# Puisque l'image est grise mais en RGB, c'est à dire de dimension 200x200x3, on sélectionne\n",
    "# seulement l'un des cannaux pour obtenir une matrice 2D.\n",
    "mat_img = np.array(img)[:, :, 0]\n",
    "\n",
    "# Floutage de l'image\n",
    "mat_img_blurred = blur_img(mat_img)\n",
    "\n",
    "# Affichage de l'image originale et l'image floutée dans un même graphique\n",
    "f, ax = plt.subplots(1, 2, figsize=(10, 10))\n",
    "ax[0].imshow(mat_img, cmap=\"gray\")\n",
    "ax[0].set_title(\"Image originale\")\n",
    "ax[1].imshow(mat_img_blurred, cmap=\"gray\")\n",
    "ax[1].set_title(\"Image floutée\")\n",
    "plt.show()"
   ]
  },
  {
   "cell_type": "markdown",
   "metadata": {},
   "source": [
    "### Astuces\n",
    "\n",
    "- Comme on peut voir, il est important de comprendre quel format numérique (int ou float) est utilisé car cela à un impact sur la quantité de mémoire utilisée et peut retourner un message d'erreur en cas d'inconsistance ou de mauvaise utilisation:\n"
   ]
  },
  {
   "cell_type": "code",
   "execution_count": null,
   "metadata": {},
   "outputs": [],
   "source": [
    "a = np.array([1, 2, 3, 4, 5], dtype=np.float64)  # Par default, les valeurs d'un vecteur sont des float64\n",
    "b = np.array([0, 1, 4], dtype=np.uint8)  # Création d'un vecteur d'entiers de 8 bits\n",
    "c = np.array([0, 1, 4], dtype=np.float32)  # Création d'un vecteur de nombres décimaux de 32 bits\n",
    "\n",
    "print(a[b])  # Valide car l'on peut indexer avec un vecteur d'entiers\n",
    "\n",
    "try:\n",
    "    print(a[c])  # Erreur car on essaie d'indexer un vecteur avec un vecteur de nombre décimaux\n",
    "except IndexError as e:\n",
    "    print(e)"
   ]
  },
  {
   "cell_type": "markdown",
   "metadata": {},
   "source": [
    "- Il est recommandé d'avoir le python shell ouvert sur un terminal pour pouvoir facilement tester ces fonctions de manipulations matricielles lors de l'écriture de code."
   ]
  },
  {
   "cell_type": "markdown",
   "metadata": {},
   "source": [
    "## <h2 align=\"center\" id='lexique'> Lexique </h2>\n",
    "\n",
    "### 📚 Terminologie\n",
    "\n",
    "- Un \"array\" est une structure de données représentant une séquence finie d'éléments auxquels on peut accéder efficacement par leur position, ou indice, dans la séquence.\n",
    "- Un `ndarray` est array de n dimensions de Numpy.\n",
    "\n",
    "\n",
    "### ✔️ Vu dans l'exemple 1\n",
    "\n",
    "- `np.array(<objet>, dtype=)`: création d'un `ndarray` à partir d'une liste python. L'argument `dtype` permet de spécifier le [type](https://numpy.org/doc/stable/user/basics.types.html) de données numériques qui sera employé. \n",
    "- `np.arange(<debut>, <fin>, <pas>)`: génère les points à partir d'un pas $\\Delta T$ spécifique. Attention, la valeur de fin est exclue. \n",
    "- `np.linspace(<debut>, <fin>, <nb de points>)`: génère le nombre de points voulus espacés linéairement. Ici, la valeur de fin est inclue.\n",
    "- `ndarray.size`: retourne le nombre total d'éléments dans un `ndarray`.\n",
    "- `ndarray.shape`: retourne un tuple avec le nombre d'éléments dans chaque dimensions. \n",
    "- Ensemble des [fonctions mathématiques](https://numpy.org/doc/stable/reference/routines.math.html) disponibles sur Numpy.\n",
    "- Expressions booléennes de type `ndarray <operateur> <valeur>` avec les opérateurs suivants: `<, >, !=` et `==`. \n",
    "\n",
    "### ✔️ Vu dans l'exemple 2\n",
    "\n",
    "- `np.linalg.solve(A,b)`: résolution d'un système linéaire Ax = b.\n",
    "- `np.linalg.inv(A)`: inverse d'une matrice A.\n",
    "- Opérateur `@` pour la multiplication matricielle.\n",
    "\n",
    "### ✔️ Vu dans l'exemple 3\n",
    "\n",
    "- `np.zeros(<dimensions>, dtype=)`: création d'un `ndarray` de zeros, utile pour l'initialisation de vecteurs ou de matrices qui seront remplis subséquemment dans un code.\n",
    "\n",
    "### ✔️ Vu dans l'exemple 4\n",
    "\n",
    "- `ndarray.reshape(<dimensions>)`: changer la forme d'un `ndarray` selon les nouvelles dimensions spécifiées dans un tuple de type: `(dim_x, dim_y)`\n",
    "- `ndarray.flatten()`: ramène le `ndarray` à un vecteur 1D.\n",
    "- `np.eye(<nb lignes>, <nb colonnes>, dtype=)`: création d'une matrice identité, c'est-à-dire avec des 1 sur la diagonale. Utiliser `np.eye(<n>)` pour une matrice carrée n x n. \n"
   ]
  }
 ],
 "metadata": {
  "interpreter": {
   "hash": "25034407fed5d681614dac11a1c0537e8cb49e3a8883c071303eea01322943d9"
  },
  "kernelspec": {
   "display_name": "Python 3.9.0 64-bit",
   "language": "python",
   "name": "python3"
  },
  "language_info": {
   "codemirror_mode": {
    "name": "ipython",
    "version": 3
   },
   "file_extension": ".py",
   "mimetype": "text/x-python",
   "name": "python",
   "nbconvert_exporter": "python",
   "pygments_lexer": "ipython3",
   "version": "3.9.7"
  }
 },
 "nbformat": 4,
 "nbformat_minor": 2
}
