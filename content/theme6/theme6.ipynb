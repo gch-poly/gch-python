{
 "cells": [
  {
   "cell_type": "markdown",
   "metadata": {},
   "source": [
    "# <h1 align=\"center\"> THEME 6 - Résolution analytique d'équations différentielles</h1>\n",
    "\n",
    "### 🎯 Objectifs\n",
    "- Résoudre des équations différentielles analytiquement\n",
    "\n",
    "### 📚 Notions \n",
    "\n",
    "- [Exemple 1](#ex1):\n",
    "- [Exemple 2](#ex2):\n",
    "- [Exemple 3](#ex3):\n",
    "\n",
    "Un [lexique](#lexique) avec l'ensemble des fonctions qui ont été vues est disponible à la fin du notebook.\n",
    "\n",
    "### 🧰 Librairies\n",
    "\n",
    "- **Sympy**: est une librairie Python pour le calcul symbolique. Elle vise à devenir un système de calcul formel (CAS) complet tout en gardant le code aussi simple que possible afin d'être compréhensible et facilement extensible.\n",
    "\n",
    "### 🔗 Référence\n",
    "\n",
    "- [Documentation Sympy](https://docs.sympy.org/latest/reference/index.html#reference)\n",
    "\n",
    "### ⚙️ Installation\n",
    "\n",
    "`pip install sympy`"
   ]
  },
  {
   "cell_type": "markdown",
   "metadata": {},
   "source": [
    "## <a name=\"ex1\"><h2 align=\"center\"> Exemple 1 - Réaction Non-Linéaire </h2></a>\n",
    "\n",
    "### 📝 Contexte\n",
    "\n",
    "Soit la réaction suivante:\n",
    "\n",
    "$$\n",
    "2 A \\rightarrow B\n",
    "$$\n",
    "\n",
    "Son équation est une ODE non-linéaire:\n",
    "\n",
    "$$\n",
    "\\frac{d C_{A}}{d t}=-k C_{A}^{2}\n",
    "$$\n",
    "\n",
    "### 🧪 Paramètres\n",
    " \n",
    "Donnée:\n",
    "- $k=2 \\, L.mol^{-1}.min^{-1}$\n",
    "\n",
    "Condition initiale:\n",
    "- $C_{A0}=1 \\, mol.L^{-1}$\n",
    "\n",
    "### ⭐ Objectif\n",
    "\n",
    "Résoudre l'ODE numériquement et tracer la concentration de A entre t=0 et t=10 min avec 26 points."
   ]
  },
  {
   "cell_type": "markdown",
   "metadata": {},
   "source": [
    "### 💻 Code\n",
    "\n",
    "### 💡 Astuces"
   ]
  },
  {
   "cell_type": "markdown",
   "metadata": {},
   "source": [
    "Sympy est une librairie très complète et qui possède un grand nombre de fonctions pour la résolution de toute sorte d'équations. Pour ce thème, le sous-module [ODE](https://docs.sympy.org/latest/modules/solvers/ode.html) de Sympy sera principalement utilisé.\n",
    "\n",
    "Tout calcul symbolique avec Sympy se fait avec 3 types de données:\n",
    "1. Des variables (ou symboles) définis avec `Symbol` ou `symbols`.\n",
    "2. Des fonctions défénies avec `Function`.\n",
    "3. Des équations (ou expressions) définies avec `Eq`.\n",
    "\n",
    "Pour commencer, on définit notre équation non-linéaire sans utiliser de paramètres numériques. "
   ]
  },
  {
   "cell_type": "code",
   "execution_count": null,
   "metadata": {},
   "outputs": [],
   "source": [
    "import sympy as sym  # Importer la librairie sympy\n",
    "import matplotlib.pyplot as plt\n",
    "import numpy as np\n",
    "\n",
    "sym.init_printing()  # Initialiser le systeme d'affichage LaTeX\n",
    "\n",
    "# Déclarations\n",
    "# ---------------------------------------------------\n",
    "t, k = sym.symbols(\"t k\")  # Variables t et k\n",
    "C = sym.Function(\"C\")(t)  # Fonction C qui dépend de t\n",
    "dCdt = C.diff(t)  # Dérivée de C par rapport à t\n",
    "expr = sym.Eq(dCdt, -k * C**2)\n",
    "\n",
    "# Affichage de l'équation (uniquement dans un notebook)\n",
    "# ---------------------------------------------------\n",
    "expr"
   ]
  },
  {
   "cell_type": "markdown",
   "metadata": {},
   "source": [
    "Une fois l'équation différentielle définie, on peut la résoudre avec la fonction `dsolve`."
   ]
  },
  {
   "cell_type": "code",
   "execution_count": null,
   "metadata": {},
   "outputs": [],
   "source": [
    "sol_analytique = sym.dsolve(expr)\n",
    "sol_analytique"
   ]
  },
  {
   "cell_type": "markdown",
   "metadata": {},
   "source": [
    "On peut remplacer une variable avec valeur numérique avec `subs`."
   ]
  },
  {
   "cell_type": "code",
   "execution_count": null,
   "metadata": {},
   "outputs": [],
   "source": [
    "sol_analytique.subs(k, 2)"
   ]
  },
  {
   "cell_type": "markdown",
   "metadata": {},
   "source": [
    "Pour résoudre l'équation différentielle avec des conditions initiales, on peut passer un dictionnaire à l'argument `ics` de la fonction `dsolve`."
   ]
  },
  {
   "cell_type": "code",
   "execution_count": null,
   "metadata": {},
   "outputs": [],
   "source": [
    "k = 2  # Définir la valeur de k\n",
    "expr = sym.Eq(dCdt, -k * C**2)  # Redéfinir l'équation avec la nouvelle valeur de k\n",
    "\n",
    "# ics prend un dictionnaire avec comme clé la fonction avec sa variable dépendante définie numériquement et comme valeur\n",
    "# la condition initiale\n",
    "sol_condinit = sym.dsolve(expr, ics={C.subs(t, 0): 1})  # C_A0 = 1\n",
    "sol_condinit"
   ]
  },
  {
   "cell_type": "markdown",
   "metadata": {},
   "source": [
    "On peut évaluer notre solution à un instant t en remplaçant la variable `t` par sa valeur numérique. "
   ]
  },
  {
   "cell_type": "code",
   "execution_count": null,
   "metadata": {},
   "outputs": [],
   "source": [
    "sol_condinit.subs(t, 3)"
   ]
  },
  {
   "cell_type": "markdown",
   "metadata": {},
   "source": [
    "Noter que la solution est une équation, c'est à dire qu'elle contient une partie `lhs` dépendante de la variable d'état (ici `t`) et une partie `rhs` indépendante de cette variable.\n",
    "\n",
    "Pour pouvoir évaluer la solution sur un ensemble de valeurs de `t` (comme un vecteur Numpy) il faut la transformer en fonction. Pour cela on utilise la fonction `lambdify` sur la partie `rhs` de la solution."
   ]
  },
  {
   "cell_type": "code",
   "execution_count": null,
   "metadata": {},
   "outputs": [],
   "source": [
    "from sympy.utilities.lambdify import lambdify\n",
    "\n",
    "# Création d'une fonction qui prend en paramètre t et renvoie la valeur de la solution\n",
    "f = lambdify(t, sol_condinit.rhs)\n",
    "vec_t = np.linspace(0, 10, 100)\n",
    "\n",
    "# La fonction peut être directement évaluée sur un vecteur Numpy\n",
    "plt.plot(vec_t, f(vec_t))\n",
    "plt.show()"
   ]
  },
  {
   "cell_type": "markdown",
   "metadata": {},
   "source": [
    "## <a name=\"lexique\"><h2 align=\"center\"> Lexique </h2></a>\n",
    "\n",
    "### 📚 Terminologie\n",
    "\n",
    "### ✔️ Vu dans l'exemple 1"
   ]
  }
 ],
 "metadata": {
  "kernelspec": {
   "display_name": "Python 3.9.0 64-bit",
   "language": "python",
   "name": "python3"
  },
  "language_info": {
   "codemirror_mode": {
    "name": "ipython",
    "version": 3
   },
   "file_extension": ".py",
   "mimetype": "text/x-python",
   "name": "python",
   "nbconvert_exporter": "python",
   "pygments_lexer": "ipython3",
   "version": "3.9.0"
  },
  "vscode": {
   "interpreter": {
    "hash": "25034407fed5d681614dac11a1c0537e8cb49e3a8883c071303eea01322943d9"
   }
  }
 },
 "nbformat": 4,
 "nbformat_minor": 2
}
