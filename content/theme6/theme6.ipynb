{
 "cells": [
  {
   "cell_type": "markdown",
   "metadata": {},
   "source": [
    "# <h1 align=\"center\"> THEME 6 - Résolution analytique d'équations différentielles</h1>\n",
    "\n",
    "### 🎯 Objectifs\n",
    "- Résoudre des équations différentielles analytiquement\n",
    "\n",
    "### 📚 Notions \n",
    "\n",
    "- [Exemple 1](#ex1): Réaction non-linéaire\n",
    "- [Exemple 2](#ex2): Écoulement entre 2 plaques\n",
    "- [Exemple 3](#ex3):\n",
    "\n",
    "Un [lexique](#lexique) avec l'ensemble des fonctions qui ont été vues est disponible à la fin du notebook.\n",
    "\n",
    "### 🧰 Librairies\n",
    "\n",
    "- **Sympy**: est une librairie Python pour le calcul symbolique. Elle vise à devenir un système de calcul formel (CAS) complet tout en gardant le code aussi simple que possible afin d'être compréhensible et facilement extensible.\n",
    "\n",
    "### 🔗 Référence\n",
    "\n",
    "- [Documentation Sympy](https://docs.sympy.org/latest/reference/index.html#reference)\n",
    "\n",
    "### ⚙️ Installation\n",
    "\n",
    "`pip install sympy`"
   ]
  },
  {
   "cell_type": "markdown",
   "metadata": {},
   "source": [
    "## <h2 align=\"center\" id=\"ex1\"> Exemple 1 - Réaction Non-Linéaire </h2>\n",
    "\n",
    "### 📝 Contexte\n",
    "\n",
    "Soit la réaction suivante:\n",
    "\n",
    "$$\n",
    "2 A \\rightarrow B\n",
    "$$\n",
    "\n",
    "Son équation est une ODE non-linéaire:\n",
    "\n",
    "$$\n",
    "\\frac{d C_{A}}{d t}=-k C_{A}^{2}\n",
    "$$\n",
    "\n",
    "### 🧪 Paramètres\n",
    " \n",
    "Donnée:\n",
    "- $k=2 \\, L.mol^{-1}.min^{-1}$\n",
    "\n",
    "Condition initiale:\n",
    "- $C_{A0}=1 \\, mol.L^{-1}$\n",
    "\n",
    "### ⭐ Objectif\n",
    "\n",
    "Résoudre l'ODE numériquement et tracer la concentration de A entre t=0 et t=10 min avec 26 points."
   ]
  },
  {
   "cell_type": "markdown",
   "metadata": {},
   "source": [
    "### 💻 Code"
   ]
  },
  {
   "cell_type": "markdown",
   "metadata": {},
   "source": [
    "Sympy est une librairie très complète et qui possède un grand nombre de fonctions pour la résolution de toute sorte d'équations. Pour ce thème, le sous-module [ODE](https://docs.sympy.org/latest/modules/solvers/ode.html) de Sympy sera principalement utilisé.\n",
    "\n",
    "Tout calcul symbolique avec Sympy se fait avec 3 types de données:\n",
    "1. Des variables (ou symboles) définis avec `Symbol` ou `symbols`.\n",
    "2. Des fonctions défénies avec `Function`.\n",
    "3. Des équations (ou expressions) définies avec `Eq`.\n",
    "\n",
    "Pour commencer, on définit notre équation non-linéaire sans utiliser de paramètres numériques. "
   ]
  },
  {
   "cell_type": "code",
   "execution_count": null,
   "metadata": {},
   "outputs": [],
   "source": [
    "import sympy as sp  # Importer la librairie sympy\n",
    "import matplotlib.pyplot as plt\n",
    "import numpy as np\n",
    "\n",
    "sp.init_printing()  # Initialiser le systeme d'affichage LaTeX\n",
    "\n",
    "# Déclarations\n",
    "# ---------------------------------------------------\n",
    "t, k = sp.symbols(\"t k\")  # Variables t et k\n",
    "C = sp.Function(\"C\")  # Fonction C qui dépend de t\n",
    "dCdt = sp.Derivative(C(t), t)\n",
    "expr = sp.Eq(dCdt, -k * C(t) ** 2)\n",
    "# Affichage de l'équation (uniquement dans un notebook)\n",
    "# ---------------------------------------------------\n",
    "expr"
   ]
  },
  {
   "cell_type": "markdown",
   "metadata": {},
   "source": [
    "Une fois l'équation différentielle définie, on peut la résoudre avec la fonction `dsolve`."
   ]
  },
  {
   "cell_type": "code",
   "execution_count": null,
   "metadata": {},
   "outputs": [],
   "source": [
    "sol_analytique = sp.dsolve(expr)\n",
    "sol_analytique"
   ]
  },
  {
   "cell_type": "markdown",
   "metadata": {},
   "source": [
    "On peut remplacer une variable avec valeur numérique avec `subs`."
   ]
  },
  {
   "cell_type": "code",
   "execution_count": null,
   "metadata": {},
   "outputs": [],
   "source": [
    "sol_analytique.subs(k, 2)"
   ]
  },
  {
   "cell_type": "markdown",
   "metadata": {},
   "source": [
    "Pour résoudre l'équation différentielle avec des conditions initiales, on peut passer un dictionnaire à l'argument `ics` de la fonction `dsolve`."
   ]
  },
  {
   "cell_type": "code",
   "execution_count": null,
   "metadata": {},
   "outputs": [],
   "source": [
    "k = 2  # Définir la valeur de k\n",
    "expr = sp.Eq(dCdt, -k * C(t) ** 2)  # Redéfinir l'équation avec la nouvelle valeur de k\n",
    "\n",
    "# ics prend un dictionnaire avec comme clé la fonction avec sa variable dépendante définie numériquement et comme valeur\n",
    "# la condition initiale\n",
    "sol_condinit = sp.dsolve(expr, ics={C(0): 1})  # C_A0 = 1\n",
    "sol_condinit"
   ]
  },
  {
   "cell_type": "markdown",
   "metadata": {},
   "source": [
    "On peut évaluer notre solution à un instant t en remplaçant la variable `t` par sa valeur numérique. "
   ]
  },
  {
   "cell_type": "code",
   "execution_count": null,
   "metadata": {},
   "outputs": [],
   "source": [
    "sol_condinit.subs(t, 3)"
   ]
  },
  {
   "cell_type": "markdown",
   "metadata": {},
   "source": [
    "Noter que la solution est une équation, c'est à dire qu'elle contient une partie `lhs` (left-hand-side) dépendante de la variable d'état (ici `t`) et une partie `rhs` (right-hand-side) indépendante de cette variable.\n",
    "\n",
    "Pour pouvoir évaluer la solution sur un ensemble de valeurs de `t` (comme un vecteur Numpy) il faut la transformer en fonction. Pour cela on utilise la fonction `lambdify` sur la partie `rhs` de la solution."
   ]
  },
  {
   "cell_type": "code",
   "execution_count": null,
   "metadata": {},
   "outputs": [],
   "source": [
    "from sympy.utilities.lambdify import lambdify\n",
    "\n",
    "# Création d'une fonction qui prend en paramètre t et renvoie la valeur de la solution\n",
    "f = lambdify(t, sol_condinit.rhs)\n",
    "vec_t = np.linspace(0, 10, 100)\n",
    "\n",
    "# La fonction peut être directement évaluée sur un vecteur Numpy\n",
    "plt.plot(vec_t, f(vec_t))\n",
    "plt.show()"
   ]
  },
  {
   "cell_type": "markdown",
   "metadata": {},
   "source": [
    "## <h2 align=\"center\" id=\"ex2\"> Exemple 2 - Écoulement entre 2 plaques </h2>\n",
    "\n",
    "### 📝 Contexte\n",
    "\n",
    "Soit un fluide Newtonien s'écoulant entre deux plaques horizontales de longueur $L$ et séparées par un espace vertical de $2H$. L'axe $z$ est dans la direction de l'écoulement, et la vitesse du fluide dépend de la position verticale entre les deux plaques (l'axe $x$): $v_z(x)$. On opère en régime permanent, et on néglige les effets de bouts. C'est une différence de pression ($p_1 - p_0$) aux extrémités des plaques qui force cet écoulement laminaire. Les propriétés du fluide sont présumées constantes.\n",
    "\n",
    "Les équations de Navier-Stokes se simplifient pour décrire le mouvement:\n",
    "\n",
    "$$\n",
    "\\frac{d}{d z} p{\\left(z \\right)} = \\mu \\frac{d^{2}}{d x^{2}} \\operatorname{v_{z}}{\\left(x \\right)}\n",
    "$$\n",
    "\n",
    "La température variera suivant $x$ et dépendra de la conduction et de la dissipation visqueuse comme suit:\n",
    "\n",
    "$$\n",
    "0 = k \\frac{d^{2}}{d x^{2}} T{\\left(x \\right)} + \\mu \\left(\\frac{d}{d x} \\operatorname{v_{z}}{\\left(x \\right)}\\right)^{2}\n",
    "$$\n",
    "\n",
    "On remarque que l'équation de mouvement est une EDO exacte, et que donc:\n",
    "\n",
    "$$\\frac{d^{}}{d z^{}} p{\\left(z \\right)} = \\text{constante} $$\n",
    "\n",
    "Que l'on peut reformuler comme:\n",
    "\n",
    "$$\\frac{d^{2}}{d z^{2}} p{\\left(z \\right)} = 0 $$\n",
    "\n",
    "### 🧪 Paramètres\n",
    "\n",
    "**Conditions frontalières (C.F.):**\n",
    "\n",
    "Aux deux bouts de la plaque on a des pressions données:\n",
    "\n",
    "$$\n",
    "\\begin{aligned}\n",
    "\\text{C.F.1} &: \\quad \\operatorname{p}{\\left(z=0 \\right)} = p_0 \\\\\n",
    "\\text{C.F.2} &: \\quad \\operatorname{p}{\\left(z=L \\right)} = p_1\n",
    "\\end{aligned}\n",
    "$$\n",
    "\n",
    "\n",
    "On présume qu'il n'y a pas de glissement, le fluide a donc une vitesse nulle au contact des plaques:\n",
    "\n",
    "$$\n",
    "\\begin{aligned}\n",
    "\\text{C.F.3} &: \\quad  \\operatorname{v_z}{\\left(x=H \\right)} = 0 \\\\\n",
    "\\text{C.F.4} &: \\quad \\operatorname{v_z}{\\left(x=-H \\right)} = 0\n",
    "\\end{aligned}\n",
    "$$\n",
    "\n",
    "La première plaque (à $x=H$) est maintenue à une température $T_1$. \n",
    "\n",
    "$$  \\text{C.F.5:} \\quad T \\left(x=H \\right) = T_1 $$\n",
    "\n",
    "L'autre plaque (à $x=-H$) est parfaitement isolée, donc sans échange de chaleur, $q_x$:\n",
    "\n",
    "$$  \\text{C.F.6:} \\quad q_x \\left(x=-H \\right) = -k \\frac{d^{2}}{d x^{2}} T{\\left(x \\right)}\\vert_{x=H} = 0 $$\n",
    "\n",
    "### ⭐ Objectif\n",
    "\n",
    "Trouver une expression pour le profil de vitesse et de température du fluide."
   ]
  },
  {
   "cell_type": "markdown",
   "metadata": {},
   "source": [
    "### 💻 Code"
   ]
  },
  {
   "cell_type": "markdown",
   "metadata": {},
   "source": [
    "#### Initialisation"
   ]
  },
  {
   "cell_type": "markdown",
   "metadata": {},
   "source": [
    "On commence par définir les variables, équations et expressions que l'on va utiliser."
   ]
  },
  {
   "cell_type": "code",
   "execution_count": null,
   "metadata": {},
   "outputs": [],
   "source": [
    "# Déclarations\n",
    "# ---------------------------------------------------\n",
    "# Variables des équations\n",
    "(\n",
    "    k,\n",
    "    x,\n",
    "    z,\n",
    "    mu,\n",
    ") = sp.symbols(\"k, x, z, mu\")\n",
    "# Variables des conditions frontalières\n",
    "T1, H, p0, p1, L = sp.symbols(\"T_1, H, p_0, p_1, L\")\n",
    "# Fonctions\n",
    "vz = sp.Function(\"v_z\")\n",
    "p = sp.Function(\"p\")\n",
    "T = sp.Function(\"T\")"
   ]
  },
  {
   "cell_type": "code",
   "execution_count": null,
   "metadata": {},
   "outputs": [],
   "source": [
    "eq_mouvement = sp.Eq(p(z).diff(z), mu * vz(x).diff(x, 2))\n",
    "eq_mouvement"
   ]
  },
  {
   "cell_type": "code",
   "execution_count": null,
   "metadata": {},
   "outputs": [],
   "source": [
    "eq_energie = sp.Eq(0, k * T(x).diff(x, 2) + mu * (vz(x).diff(x)) ** 2)\n",
    "eq_energie"
   ]
  },
  {
   "cell_type": "code",
   "execution_count": null,
   "metadata": {},
   "outputs": [],
   "source": [
    "eq_pression = sp.Eq(0, p(z).diff(z, 2))\n",
    "eq_pression"
   ]
  },
  {
   "cell_type": "markdown",
   "metadata": {},
   "source": [
    "#### Résolution"
   ]
  },
  {
   "cell_type": "markdown",
   "metadata": {},
   "source": [
    "La résolution de systèmes d'ODE dans Sympy est encore très expérimentale et ne supporte pas beaucoup de cas. Pour le moment, il est donc mieux de résoudre notre système en résolvant chacunes des équations séparemment et en injectant l'expression trouvée dans l'équation suivante. \n",
    "\n",
    "On résout l'équation de pression avec les conditions frontalières, ce qui nous donne un gradient de pression constant:"
   ]
  },
  {
   "cell_type": "code",
   "execution_count": null,
   "metadata": {},
   "outputs": [],
   "source": [
    "# Résolution de l'équation de pression\n",
    "sol_p = sp.dsolve(eq_pression, ics={p(0): p0, p(L): p1})\n",
    "sol_p"
   ]
  },
  {
   "cell_type": "markdown",
   "metadata": {},
   "source": [
    "Pour substituer facilement l'expression de $p(z)$ dans l'équation de mouvement, on créé un dictionnaire qui va contenir les expression des équations résolues. Ce dictionnaire est ensuite passé à `subs` avant."
   ]
  },
  {
   "cell_type": "code",
   "execution_count": null,
   "metadata": {},
   "outputs": [],
   "source": [
    "sol_dict = {}\n",
    "sol_dict[p(z)] = sol_p.rhs\n",
    "# Résolution de l'équation de mouvement\n",
    "sol_m = sp.dsolve(eq_mouvement.subs(sol_dict), ics={vz(H): 0, vz(-H): 0})\n",
    "sol_m"
   ]
  },
  {
   "cell_type": "markdown",
   "metadata": {},
   "source": [
    "Finalement on effectue un substitution similaire pour résoudre l'équation d'énergie."
   ]
  },
  {
   "cell_type": "code",
   "execution_count": null,
   "metadata": {},
   "outputs": [],
   "source": [
    "sol_dict[vz(x)] = sol_m.rhs\n",
    "# Résolution de l'équation d'énergie\n",
    "sol_e = sp.dsolve(eq_energie.subs(sol_dict), ics={T(H): T1, T(x).diff(x).subs(x, -H): 0})\n",
    "sol_dict[T(x)] = sol_e.rhs\n",
    "sol_e"
   ]
  },
  {
   "cell_type": "markdown",
   "metadata": {},
   "source": [
    "On remarque que l'expression pour $T(x)$ est assez complexe. Sympy met a disposition plusieurs fonctions pour manipuler l'expression d'une expression. Les fonctions les plus importantes sont:\n",
    "\n",
    "- `.simplify()` pour simplifier l'expression\n",
    "- `.expand()` pour développer l'expression\n",
    "- `.factor()` pour factoriser l'expression\n",
    "\n",
    "Ici on peut par exemple voir si l'expression de $T(x)-T_1$ pourrait être simplifiée et factorisée."
   ]
  },
  {
   "cell_type": "code",
   "execution_count": null,
   "metadata": {},
   "outputs": [],
   "source": [
    "# Simplification de l'expression de T(x) - T1\n",
    "delta_T = (sol_dict[T(x)] - T1).simplify().factor()\n",
    "delta_T"
   ]
  },
  {
   "cell_type": "markdown",
   "metadata": {},
   "source": [
    "Pour pouvoir insérer nos résultats dans un document, la fonction `sp.print_latex()` permet d'afficher le code $LaTeX$ de notre expression."
   ]
  },
  {
   "cell_type": "code",
   "execution_count": null,
   "metadata": {},
   "outputs": [],
   "source": [
    "sp.print_latex(delta_T)  # Imprimer le code latex"
   ]
  },
  {
   "cell_type": "markdown",
   "metadata": {},
   "source": [
    "#### Visualisation"
   ]
  },
  {
   "cell_type": "markdown",
   "metadata": {},
   "source": [
    "En définissant des valeurs numériques à nos variables on peut visualiser le profil de vitesse et de température du fluide."
   ]
  },
  {
   "cell_type": "code",
   "execution_count": null,
   "metadata": {},
   "outputs": [],
   "source": [
    "# Définition des valeurs numériques pour chaque variable sympy\n",
    "# ---------------------------------------------------\n",
    "values = {H: 0.01, p0: 300e3, p1: 100e3, L: 10, k: 0.285, mu: 0.89, T1: 300}  # m  # Pa  # Pa  # m  # W/m.K  # Pa.s\n",
    "\n",
    "f_T = sp.lambdify(x, sol_dict[T(x)].subs(values))\n",
    "f_vz = sp.lambdify(x, sol_dict[vz(x)].subs(values))\n",
    "vec_x = np.linspace(-values[H], values[H], 100)"
   ]
  },
  {
   "cell_type": "code",
   "execution_count": null,
   "metadata": {},
   "outputs": [],
   "source": [
    "plt.xlabel(\"Position en x, de -H à H [m]\")\n",
    "plt.ylabel(\"Température [K]\")\n",
    "plt.plot(vec_x, f_T(vec_x))\n",
    "plt.title(\"Profil de température dans le conduit\")\n",
    "plt.grid(True)\n",
    "plt.show()"
   ]
  },
  {
   "cell_type": "code",
   "execution_count": null,
   "metadata": {},
   "outputs": [],
   "source": [
    "plt.xlabel(\"Position en x, de -H à H [m]\")\n",
    "plt.ylabel(\"Vitesse d'écoulement ($v_z$) [m/s]\")\n",
    "plt.plot(vec_x, f_vz(vec_x))\n",
    "plt.title(\"Profil de vitesse dans le conduit\")\n",
    "plt.grid(True)\n",
    "plt.show()"
   ]
  },
  {
   "cell_type": "markdown",
   "metadata": {},
   "source": [
    "## <h2 align=\"center\" id=\"ex3\"> Lexique </h2>\n",
    "\n",
    "### 📚 Terminologie\n",
    "\n",
    "### ✔️ Vu dans l'exemple 1"
   ]
  }
 ],
 "metadata": {
  "interpreter": {
   "hash": "25034407fed5d681614dac11a1c0537e8cb49e3a8883c071303eea01322943d9"
  },
  "kernelspec": {
   "display_name": "Python 3.9.0 64-bit",
   "language": "python",
   "name": "python3"
  },
  "language_info": {
   "codemirror_mode": {
    "name": "ipython",
    "version": 3
   },
   "file_extension": ".py",
   "mimetype": "text/x-python",
   "name": "python",
   "nbconvert_exporter": "python",
   "pygments_lexer": "ipython3",
   "version": "3.9.0"
  },
  "vscode": {
   "interpreter": {
    "hash": "25034407fed5d681614dac11a1c0537e8cb49e3a8883c071303eea01322943d9"
   }
  }
 },
 "nbformat": 4,
 "nbformat_minor": 2
}
