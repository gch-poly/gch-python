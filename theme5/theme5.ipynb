{
 "cells": [
  {
   "cell_type": "markdown",
   "metadata": {},
   "source": [
    "# <h1 align=\"center\"> THEME 5 - Résolution numérique de systèmes dynamiques </h1>\n",
    "\n",
    "### 🎯 Objectifs\n",
    "\n",
    "- Résoudre des ODE linéaires et non-linéaires\n",
    "- Résoudre un système d'ODE\n",
    "\n",
    "### 📚 Notions \n",
    "\n",
    "**Essentielles:**\n",
    "\n",
    "- [Exemple 1](#ex1): Réaction non-linéaire\n",
    "    - Introduire à la fonction solve_ivp().\n",
    "    - Construire la fonction de l'ODE.\n",
    "    - Résoudre une ODE numériquement.\n",
    "- [Exemple 2](#ex2): Cinématique Michaelis-Menten\n",
    "    - Construire une fonction pour un système d'ODE.\n",
    "    - Résoudre un système d'ODE numériquement.\n",
    "\n",
    "**Avancées:**\n",
    "\n",
    "- [Exemple 3](#ex3): Système masse-ressort amorti\n",
    "    - Modifier la précision de la résolution numérique.\n",
    "    - Notions de tolérance absolue et relative.\n",
    "- [Exemple 4](#ex4): ODE raide\n",
    "    - Observer la stabilité dans la résolution numérique\n",
    "    - Méthodes implicites et explicites.\n",
    "    \n",
    "Un [lexique](#lexique) avec l'ensemble des fonctions qui ont été vues est disponible à la fin du notebook.\n",
    "\n",
    "### 🧰 Librairies\n",
    "\n",
    "- **Scipy**: est une librairie Python open-source utilisée pour le calcul scientifique. SciPy contient des modules pour l'optimisation, l'algèbre linéaire, l'intégration, l'interpolation, les fonctions spéciales, la FFT, le traitement du signal et de l'image, les solveurs ODE et d'autres tâches courantes en sciences et en ingénierie.\n",
    "\n",
    "### 🔗 Référence\n",
    "\n",
    "- [Documentation Scipy](https://docs.scipy.org/doc/scipy/reference/index.html#scipy-api)\n",
    "\n",
    "### ⚙️ Installation\n",
    "\n",
    "`pip install scipy`"
   ]
  },
  {
   "cell_type": "markdown",
   "metadata": {},
   "source": [
    "## <a name=\"ex1\"><h2 align=\"center\"> Exemple 1 - Réaction Non-Linéaire </h2></a>\n",
    "\n",
    "### 📝 Contexte\n",
    "\n",
    "Soit la réaction suivante:\n",
    "\n",
    "$$\n",
    "2 A \\rightarrow B\n",
    "$$\n",
    "\n",
    "Son équation est une ODE non-linéaire:\n",
    "\n",
    "$$\n",
    "\\frac{d C_{A}}{d t}=-k C_{A}^{2}\n",
    "$$\n",
    "\n",
    "### 🧪 Paramètres\n",
    " \n",
    "Donnée:\n",
    "- $k=2 \\, L.mol^{-1}.min^{-1}$\n",
    "\n",
    "Condition initiale:\n",
    "- $C_{A0}=1 \\, mol.L^{-1}$\n",
    "\n",
    "### ⭐ Objectif\n",
    "\n",
    "Résoudre l'ODE numériquement et tracer la concentration de A entre t=0 et t=10 min avec 26 points."
   ]
  },
  {
   "cell_type": "markdown",
   "metadata": {},
   "source": [
    "### 💻 Code"
   ]
  },
  {
   "cell_type": "markdown",
   "metadata": {},
   "source": [
    "La résolution numérique d'ODEs à conditions initiales avec Scipy est très simple puisque qu'elle necessite qu'une seule fonction: [`solve_ivp`](https://docs.scipy.org/doc/scipy/reference/generated/scipy.integrate.solve_ivp.html#scipy-integrate-solve-ivp). Cette fonction est disponible dans le sous-module `scipy.integrate`."
   ]
  },
  {
   "cell_type": "code",
   "execution_count": null,
   "metadata": {},
   "outputs": [],
   "source": [
    "import numpy as np\n",
    "import scipy.integrate as spi\n",
    "import matplotlib.pyplot as plt\n",
    "\n",
    "plt.rcParams[\"figure.figsize\"] = (10, 5)  # Augmenter la taille des figures"
   ]
  },
  {
   "cell_type": "markdown",
   "metadata": {},
   "source": [
    "L'utilisation de `solve_ivp` necessite 3 arguments obligatoires:\n",
    "\n",
    "- `fun`: Une fonction qui décrit le système d'ODE de la forme suivante: $\\frac{d \\vec{y}}{dt} = f(t, \\vec{y})$\n",
    "- `t_span`: Un intervalle de temps d'intégration fourni avec un tuple: `(t0, tf)`.\n",
    "- `y0`: Le vecteur des conditions initiales $\\vec{y_{0}}$.\n",
    "\n",
    "La résolution d'un système d'ODE est vu dans l'exemple 2, cela utilise les mêmes arguments sauf que la fonction prend un vecteur y comme argument et les conditions initiales sont un vecteur.\n",
    "\n",
    "Notez ici que le pas de temps est déterminé automatiquement mais peut être spécifié en passant à `solve_ivp` un vecteur qui contient les valeurs de temps ou l'on veut évaluer l'ODE avec l'argument (falcultatif) `t_eval`."
   ]
  },
  {
   "cell_type": "code",
   "execution_count": null,
   "metadata": {},
   "outputs": [],
   "source": [
    "# Définition de la fonction\n",
    "# --------------------------------------------------\n",
    "# Le 1er argument doit toujours être t\n",
    "# Le 2ème argument doit toujours être la variable intégrée\n",
    "# Le reste des arguments sont considérés comme supplémentaires\n",
    "# Doit toujours retourner la valeur évaluée (à gauche de l'équation)\n",
    "def f(t, C, k):\n",
    "    \"\"\"\n",
    "    ODE de la réaction 2A -> B\n",
    "    \"\"\"\n",
    "    dC = -k * C**2\n",
    "    return dC\n",
    "\n",
    "\n",
    "# Définition des paramètres\n",
    "# 🕹️ --------------------------------------------------\n",
    "t0 = 0  # Temps initial\n",
    "tf = 10  # Temps final\n",
    "k = 2  # Débit de la réaction\n",
    "C0 = 1  # Concentration initiale\n",
    "vec_t = np.linspace(t0, tf, 26)  # Discrétisation du temps\n",
    "\n",
    "# Résolution de l'ODE\n",
    "# --------------------------------------------------\n",
    "# Rappel: si un tuple ne contient qu'une seule valeur, il faut ajouter une virgule: (x,)\n",
    "sim1 = spi.solve_ivp(\n",
    "    f,  # Fonction de l'ODE\n",
    "    t_span=(t0, tf),  # Intervalle de temps\n",
    "    y0=(C0,),  # Condition initiale\n",
    "    args=(k,),  # Arguments supplémentaires de la fonction\n",
    "    t_eval=vec_t,  # (optionnel) Vecteur de temps où l'ODE doit être évaluée\n",
    ")"
   ]
  },
  {
   "cell_type": "markdown",
   "metadata": {},
   "source": [
    "Le résultat de la résolution est un objet qui contient plusieurs données comme:\n",
    "\n",
    "- `nfev`: Le nombre de fois que la fonction a été évaluée.\n",
    "- `njev`: Le nombre de fois que le Jacobien a été évalué.\n",
    "- `success`: `True` si le solveur a réussi, `False` sinon.\n",
    "- `t`: Le vecteur des valeurs de temps où l'ODE a été évaluée.\n",
    "- `y`: La matrice des valeurs de la solution de l'ODE."
   ]
  },
  {
   "cell_type": "code",
   "execution_count": null,
   "metadata": {},
   "outputs": [],
   "source": [
    "print(sim1)"
   ]
  },
  {
   "cell_type": "markdown",
   "metadata": {},
   "source": [
    "Il faut noter que `sim1.y` est une matrice qui contient la solution d'une variable sur chaque ligne. Puisque dans cet exemple on résout une seule équation, alors la matrice est de dimension 1xN et pour accéder à notre solution il faut indexer la première ligne de la matrice.\n",
    "\n",
    "Enfin, on trace la solution avec Matplotlib."
   ]
  },
  {
   "cell_type": "code",
   "execution_count": null,
   "metadata": {},
   "outputs": [],
   "source": [
    "# Tracer la courbe de concentration de A\n",
    "plt.plot(sim1.t, sim1.y[0])\n",
    "plt.xlabel(\"t (min)\")\n",
    "plt.ylabel(r\"$C_{A}$ (mol/L)\")\n",
    "plt.title(\"Évolution de la concentration de A\")\n",
    "plt.show()"
   ]
  },
  {
   "cell_type": "markdown",
   "metadata": {},
   "source": [
    "## <a name=\"ex2\"><h2 align=\"center\"> Exemple 2 - Cinématique Michaelis-Menten </h2></a>\n",
    "\n",
    "### 📝 Contexte\n",
    "\n",
    "En 1913, les chercheurs Leonor Michaelis et Maud Menten ont proposé un modèle mathématique pour décrire la vitesse d'une réaction enzymatique basée sur sa cinématique. Cette réaction implique qu'une enzyme, E, se lie à un substrat, S, pour former un complexe, ES, qui libère à son tour un produit, P, régénérant l'enzyme d'origine.\n",
    "\n",
    "$$\n",
    "\\begin{aligned}\n",
    "\\mathrm{E}+\\mathrm{S} \\underset{k_{r}}{\\stackrel{k_{f}}{\\rightleftharpoons}} \\mathrm{ES} \\stackrel{k_{\\mathrm{cat}}}{\\longrightarrow} \\mathrm{E}+\\mathrm{P}\n",
    "\\end{aligned}\n",
    "$$\n",
    "\n",
    "Où $k_{f}$ (constante de vitesse en avant), $k_{r}$ (constante de vitesse en arrière) et $k_{cat}$ (constante de vitesse catalytique) désignent les constantes de vitesse, les doubles flèches entre S (substrat) et ES (complexe enzyme-substrat) représentent le fait que la liaison enzyme-substrat est un processus réversible, et la flèche unique en avant représente la formation de P (produit).\n",
    "\n",
    "En appliquant la loi de conservation de la masse on obtient 4 ODEs non-linéaires:\n",
    "\n",
    "$$\n",
    "\\begin{aligned}\n",
    "\\frac{\\mathrm{d}[\\mathrm{E}]}{\\mathrm{d} t} &=-k_{f}[\\mathrm{E}][\\mathrm{S}]+k_{r}[\\mathrm{ES}]+k_{\\mathrm{cat}}[\\mathrm{ES}] \\\\\n",
    "\\frac{\\mathrm{d}[\\mathrm{S}]}{\\mathrm{d} t} &=-k_{f}[\\mathrm{E}][\\mathrm{S}]+k_{r}[\\mathrm{ES}] \\\\\n",
    "\\frac{\\mathrm{d}[\\mathrm{ES}]}{\\mathrm{d} t} &=k_{f}[\\mathrm{E}][\\mathrm{S}]-k_{r}[\\mathrm{ES}]-k_{\\mathrm{cat}}[\\mathrm{ES}] \\\\\n",
    "\\frac{\\mathrm{d}[\\mathrm{P}]}{\\mathrm{d} t} &=k_{\\mathrm{cat}}[\\mathrm{ES}]\n",
    "\\end{aligned}\n",
    "$$\n",
    "\n",
    "### 🧪 Paramètres\n",
    "\n",
    "Données: \n",
    "- $k_{f} = 10^{-3} \\, mol.s^{-1}$\n",
    "- $k_{r} = 10^{-4} \\, mol.s^{-1}$\n",
    "- $k_{cat} = 0.1 \\, mol.s^{-1}$\n",
    "\n",
    "Conditions initiales: \n",
    "- $E_{0} = 200$ \n",
    "- $S_{0} = 500$\n",
    "- $ES_{0} = 0$\n",
    "- $P_{0} = 0$\n",
    "\n",
    "### ⭐ Objectif\n",
    "\n",
    "\n",
    "\n",
    "Résoudre le système d'ODEs numériquement et tracer la concentration de chaque espèce entre t=0 et t=50s. "
   ]
  },
  {
   "cell_type": "markdown",
   "metadata": {},
   "source": [
    "### 💻 Code"
   ]
  },
  {
   "cell_type": "markdown",
   "metadata": {},
   "source": [
    "La résolution du système est assez similaire à l'exemple 1 à quelques exceptions pour accommoder le fait que nous sommes en train de résoudre un système d'ODEs cette fois.\n",
    "\n",
    "- Le deuxième argument de notre fonction doit être un vecteur $\\vec{y}$ qui contient chaque variable du système.\n",
    "- La fonction doit retourner un vecteur qui contient les dérivées de premier ordre: $\\frac{d \\vec{y}}{dt}$"
   ]
  },
  {
   "cell_type": "code",
   "execution_count": null,
   "metadata": {},
   "outputs": [],
   "source": [
    "# Définition de la fonction\n",
    "# --------------------------------------------------\n",
    "def reaction_enzymatique(t, Y, k_f, k_r, k_cat):\n",
    "    \"\"\"\n",
    "    Système de la réaction enzymatique\n",
    "    Y: vecteur des concentrations -> [E,S,ES,P]\n",
    "    \"\"\"\n",
    "    dy = np.zeros(4)  # Création d'un vecteur de zéros [E,S,ES,P]\n",
    "    e, s, es, p = Y  # Séparation des variables (équivalent à Y[0], Y[1], Y[2], Y[3])\n",
    "\n",
    "    dy[0] = -k_f * e * s + (k_r + k_cat) * es  # dE/dt\n",
    "    dy[1] = -k_f * e * s + k_r * es  # dS/dt\n",
    "    dy[2] = k_f * e * s - (k_r + k_cat) * es  # dES/dt\n",
    "    dy[3] = k_cat * es  # dP/dt\n",
    "    return dy\n",
    "\n",
    "\n",
    "# Définition des paramètres\n",
    "# --------------------------------------------------\n",
    "k_f = 1e-3\n",
    "k_r = 1e-4\n",
    "k_cat = 0.1\n",
    "k = (k_f, k_r, k_cat)  # Tuple des paramètres k\n",
    "t = np.linspace(0, 50, 100)\n",
    "E0 = 200\n",
    "S0 = 500\n",
    "y0 = (E0, S0, 0, 0)  # Tuple [E,S,ES,P]\n",
    "\n",
    "# Résolution de l'ODE\n",
    "# --------------------------------------------------\n",
    "sim2 = spi.solve_ivp(reaction_enzymatique, t_span=(0, 50), y0=y0, args=k)"
   ]
  },
  {
   "cell_type": "code",
   "execution_count": null,
   "metadata": {},
   "outputs": [],
   "source": [
    "# Tracer les courbes de concentration\n",
    "plt.plot(sim2.t, sim2.y[0], label=\"E\")\n",
    "plt.plot(sim2.t, sim2.y[1], label=\"S\")\n",
    "plt.plot(sim2.t, sim2.y[2], label=\"ES\")\n",
    "plt.plot(sim2.t, sim2.y[3], label=\"P\")\n",
    "plt.legend()\n",
    "plt.title(\"Réaction enzymatique\")\n",
    "plt.xlabel(\"t (s)\")\n",
    "plt.ylabel(\"Concentration (mol/L)\")\n",
    "plt.grid(True)\n",
    "plt.show()"
   ]
  },
  {
   "cell_type": "markdown",
   "metadata": {},
   "source": [
    "## <a name=\"ex3\"><h2 align=\"center\"> Exemple 3 - Système masse-ressort amorti</h2></a>\n",
    "\n",
    "### 📝 Contexte\n",
    "<center>\n",
    "<img src=\"assets/mass_spring_damper.png\" height=300px/>\n",
    "</center>\n",
    "\n",
    "Dans un système masse-ressort amorti, une masse est connectée à un ressort et à un amortisseur qui sont eux fixés à une paroi fixe. La masse est initialement étirée de sa position naturelle et est ensuite relâc   hée. En considérant que le frottement est négligeable et en appliquant la deuxième loi de Newton sur le système, on en déduit l’équation différentielle du mouvement de la masse:\n",
    "\n",
    "$$\n",
    "\\frac{d^{2} x}{d t^{2}}+ \\left(\\frac{c}{m}\\right) \\frac{d x}{d t} + \\left(\\frac{k}{m}\\right) x=0\n",
    "$$\n",
    "\n",
    "Où $m$ est la masse, $c$ la constante de l'amortisseur et $k$ la constante de rappel du ressort.\n",
    "\n",
    "Cette ODE de deuxième ordre peut être convertie en un système de deux équations linéaires: \n",
    "\n",
    "$$\n",
    "\\begin{aligned}\n",
    "&\\frac{d x}{d t} =v \\\\\n",
    "&\\frac{d v}{d t} = -\\left(\\frac{c}{m}\\right) v -\\left(\\frac{k}{m}\\right) x\n",
    "\\end{aligned}\n",
    "$$\n",
    "\n",
    "### 🧪 Paramètres\n",
    "Données: \n",
    "- $m = 50g$\n",
    "- $k = 2 \\, N/m$\n",
    "- $c = 0.1 \\, kg/s$\n",
    "\n",
    "Conditions initiales:\n",
    "- $x_{0} = 2$\n",
    "- $v_{0} = 0$\n",
    "\n",
    "### ⭐ Objectif\n",
    "\n",
    "Résoudre le système d'ODE entre t=0 et t=2s avec plusieurs valeurs de précision numérique. "
   ]
  },
  {
   "cell_type": "markdown",
   "metadata": {},
   "source": [
    "### 💻 Code"
   ]
  },
  {
   "cell_type": "markdown",
   "metadata": {},
   "source": [
    "La résolution du système est analogue à la méthode utilisée à l'exemple 2. \n",
    "\n",
    "L'objectif de cet exemple est d'explorer comment modifier la précision de résolution d'un système d'ODE. Sans rentrer dans des détails techniques, les méthodes numériques utilisées dans les solveurs permettent de trouver une une estimation d'erreur, qui minimisée pour être inférieure au maximum de l'un des deux types de tolérances:\n",
    "\n",
    "- `rtol`: tolérance de l'erreur relative. Cette dernière est calculée relativement à la grandeur de la valeur même. Simplement dit, cette tolérance permet de controler le nombre de chiffres significatifs des valeurs qui *ne sont pas proches* de 0. \n",
    "\n",
    "- `atol`: tolérance de l'erreur absolue. Cette dernière est une différence absolue entre la valeur calculée et la valeur réelle. Cette tolérance permet principalement de controler le nombre de chiffres significatifs des valeurs qui *sont proches* de 0.\n",
    "\n",
    "Pour plus d'informations voir cette [explication](https://www.mathworks.com/help/simbio/ug/selecting-absolute-tolerance-and-relative-tolerance-for-simulation.html).\n",
    "\n",
    "Dans Scipy, ces tolérances sont par défaut: 1e-3 pour `rtol` et 1e-6 pour `atol`. Elles peuvent être modifiées en fournissant un nouveau nombre décimal ou un vecteur de nombres décimaux pour controler la précision dans chaque équation. "
   ]
  },
  {
   "cell_type": "code",
   "execution_count": null,
   "metadata": {},
   "outputs": [],
   "source": [
    "# Définition de la fonction du système d'ODE\n",
    "# --------------------------------------------------\n",
    "def masse_ressort(t, Y, k, c, m):\n",
    "    \"\"\"\n",
    "    Système masse-ressort simple\n",
    "    \"\"\"\n",
    "    dy = np.zeros(2)  # [x,v]\n",
    "    x, v = Y\n",
    "    dy[0] = v\n",
    "    dy[1] = -(k / m) * x - (c / m) * v\n",
    "    return dy\n",
    "\n",
    "\n",
    "# Définition des paramètres\n",
    "# 🕹️ --------------------------------------------------\n",
    "m = 50e-3\n",
    "k = 2\n",
    "c = 0.1\n",
    "constantes = (k, c, m)\n",
    "t0 = 0\n",
    "tf = 10\n",
    "t = np.linspace(t0, tf, 1000)\n",
    "y0 = (5, 0)  # Tuple (x0, v0)\n",
    "\n",
    "# Résolution de l'ODE avec différents paramètres de précision\n",
    "# --------------------------------------------------\n",
    "# default: rtol=1e-3, atol=1e-6 (default scipy)\n",
    "# high_rtol: rtol=1e-1, atol=1e-6\n",
    "# high_atol: rtol=1e-3, atol=1e-2\n",
    "sim3_default = spi.solve_ivp(masse_ressort, t_span=(t0, tf), y0=y0, args=constantes, t_eval=t)\n",
    "sim3_high_rtol = spi.solve_ivp(masse_ressort, t_span=(t0, tf), y0=y0, args=constantes, t_eval=t, rtol=1e-1)\n",
    "sim3_high_atol = spi.solve_ivp(masse_ressort, t_span=(t0, tf), y0=y0, args=constantes, t_eval=t, atol=1e-2)"
   ]
  },
  {
   "cell_type": "code",
   "execution_count": null,
   "metadata": {},
   "outputs": [],
   "source": [
    "# Fonction pour tracer nos courbes facilement\n",
    "# --------------------------------------------------\n",
    "def plot_system_x(plot_low=False, xlim=None, ylim=None):\n",
    "    \"\"\"\n",
    "    Tracer la ou les courbes du système masse-ressort-amortisseur\n",
    "    Args:\n",
    "        plot_low (bool): Afficher les courbes avec un rtol/atol faible\n",
    "        xlim (tuple): (xmin, xmax)\n",
    "        ylim (tuple): (ymin, ymax)\n",
    "    \"\"\"\n",
    "    if plot_low:\n",
    "        plt.plot(sim3_high_rtol.t, sim3_high_rtol.y[0], label=\"high rtol\")\n",
    "        plt.plot(sim3_high_atol.t, sim3_high_atol.y[0], label=\"high atol\")\n",
    "    plt.plot(sim3_default.t, sim3_default.y[0], \"--\", label=\"default\")\n",
    "    plt.legend()\n",
    "    if xlim:\n",
    "        plt.xlim(xlim)\n",
    "    if ylim:\n",
    "        plt.ylim(ylim)\n",
    "    plt.grid(True)\n",
    "    plt.xlabel(\"t (s)\")\n",
    "    plt.ylabel(\"x (m)\")\n",
    "    plt.title(\"Déplacement du système masse-ressort-amortisseur x\")\n",
    "    plt.show()\n",
    "\n",
    "\n",
    "plot_system_x()"
   ]
  },
  {
   "cell_type": "markdown",
   "metadata": {},
   "source": [
    "Réduire la précision de la résolution de l'ODE est parfois idéal car cela permet de réduire le nombre de calculs numériques ce qui augmente la rapidité de résolution."
   ]
  },
  {
   "cell_type": "code",
   "execution_count": null,
   "metadata": {},
   "outputs": [],
   "source": [
    "# Afficher le nombre de fois que la fonction a été évaluée\n",
    "# --------------------------------------------------\n",
    "# Un nombre plus petit signifie un calcul plus rapide\n",
    "print(\"Defaut: \", sim3_default.nfev)\n",
    "print(\"High rtol: \", sim3_high_rtol.nfev)\n",
    "print(\"High atol: \", sim3_high_atol.nfev)"
   ]
  },
  {
   "cell_type": "markdown",
   "metadata": {},
   "source": [
    "On peut voir l'effet de la modification des valeurs de `rtol` et `atol` en comparant visuellement les courbes entre 2 intervalles de temps. On considère ici que la courbe `default` est la courbe de référence."
   ]
  },
  {
   "cell_type": "code",
   "execution_count": null,
   "metadata": {},
   "outputs": [],
   "source": [
    "# Intervalle où l'amplitude est élevée\n",
    "# 🕹️ --------------------------------------------------\n",
    "plot_system_x(True, (2, 4), (-1, 1))"
   ]
  },
  {
   "cell_type": "markdown",
   "metadata": {},
   "source": [
    "En prenant l'intervalle de temps `[2,4]`, on peut voir que la courbe obtenue avec un `rtol` élevé est significativement moins précise. En revanche, la courbe avec un `atol` élevé est confondue avec la courbe `default` ce qui est attendu puisque que les valeurs de la courbe ne sont pas proche de zero ce qui signifie ce que ici c'est `rtol` qui contrôle l'erreur."
   ]
  },
  {
   "cell_type": "code",
   "execution_count": null,
   "metadata": {},
   "outputs": [],
   "source": [
    "# Intervalle où l'amplitude est faible\n",
    "# 🕹️ --------------------------------------------------\n",
    "plot_system_x(True, (8, 10), (0.02, -0.02))"
   ]
  },
  {
   "cell_type": "markdown",
   "metadata": {},
   "source": [
    "Dans l'intervalle `[8,10]`, la masse s'est presque immobilisée et les oscillations sont très faibles et proches de 0. On voit ici que la courbe obtenue avec un `atol` élevé est cette fois très imprécise tandis que la courbe avec un `rtol` élevé est meilleure car puisque les valeurs sont proche de zero, l'algorithme de convergence utilise le paramètre `atol` pour minimiser l'erreur. "
   ]
  },
  {
   "cell_type": "markdown",
   "metadata": {},
   "source": [
    "## <a name=\"ex4\"><h2 align=\"center\"> Exemple 4 - ODE Raide </h2></a>\n",
    "\n",
    "### 📝 Contexte\n",
    "\n",
    "Un exemple classique de système d'ODE raide est l'analyse cinétique de la réaction chimique autocatalytique de Robertson qui implique 3 espèces:\n",
    "\n",
    "$$\n",
    "\\begin{aligned}\n",
    "&\\dot{x} \\equiv \\frac{\\mathrm{d} x}{\\mathrm{~d} t}=-0.04 x+10^{4} y z \\\\\n",
    "&\\dot{y} \\equiv \\frac{\\mathrm{d} y}{\\mathrm{~d} t}=0.04 x-10^{4} y z-3 \\times 10^{7} y^{2} \\\\\n",
    "&\\dot{z} \\equiv \\frac{\\mathrm{d} z}{\\mathrm{~d} t}=3 \\times 10^{7} y^{2}\n",
    "\\end{aligned}\n",
    "$$\n",
    "\n",
    "Ce système d'ODE est de type raide puisque les constantes cinétiques ont des ordres de grandeur très différents ($10^{4}$ et $10^{7}$). \n",
    "\n",
    "### 🧪 Paramètres\n",
    "\n",
    "Conditions initiales:\n",
    "- $x_{0} = 1$\n",
    "- $y_{0} = 0$\n",
    "- $z_{0} = 0$\n",
    "\n",
    "### ⭐ Objectif\n",
    "\n",
    "Résoudre le système d'ODE entre t=0 et t=500s. "
   ]
  },
  {
   "cell_type": "markdown",
   "metadata": {},
   "source": [
    "### 💻 Code"
   ]
  },
  {
   "cell_type": "markdown",
   "metadata": {},
   "source": [
    "La résolution d'un tel système a déjà été vu dans les exemples précédents. Ce qui est nouveau, c'est que cette fois nous avons un système d'ODEs raide ce qui peut engendrer des probèmes lors de sa résolution numérique. La fonction `solve_ivp` de Scipy prend l'argument facultatif `method` qui permet de specifier la méthode d'intégration. Il existe 2 grandes familles de méthodes numériques: \n",
    "\n",
    "- Méthode **Explicite**: stabilité sensible au pas de temps, résolution rapide, méthode généralement utilisée.\n",
    "- Méthode **Implicite**: toujours stable, calculs plus lourds donc résolution plus lente. \n",
    "\n",
    "Les différences dans leur implémentation est vu dans le cours de GCH-2545.\n",
    "\n",
    "Généralement, lorsque l'on a un système d'ODE raide, les méthodes explicites ne sont pas capables de converger vers la solution et la résolution échoue. En contrepartie, les méthodes implicites sont très efficaces face à ce genre de ODE.\n",
    "\n",
    "Avec Scipy, on peut choisir entre plusieurs méthodes d'intégration. En général, il est recommandé d'utiliser la méthode explicite `RK45` (méthode par défaut) et la méthode implicite `Radau`.  "
   ]
  },
  {
   "cell_type": "code",
   "execution_count": null,
   "metadata": {},
   "outputs": [],
   "source": [
    "# Définition de la fonction du système d'ODE\n",
    "# --------------------------------------------------\n",
    "def robertson(t, y):\n",
    "    x, y, z = y\n",
    "    xdot = -0.04 * x + 1.0e4 * y * z\n",
    "    ydot = 0.04 * x - 1.0e4 * y * z - 3.0e7 * y**2\n",
    "    zdot = 3.0e7 * y**2\n",
    "    return xdot, ydot, zdot\n",
    "\n",
    "\n",
    "# Définition des paramètres\n",
    "# -------------------------------------------------\n",
    "t0, tf = 0, 300\n",
    "y0 = (1, 0, 0)\n",
    "\n",
    "# Résolution\n",
    "# --------------------------------------------------\n",
    "sim4_explicite = spi.solve_ivp(robertson, (t0, tf), y0=y0, method=\"RK45\")\n",
    "sim4_implicite = spi.solve_ivp(robertson, (t0, tf), y0=y0, method=\"Radau\")"
   ]
  },
  {
   "cell_type": "markdown",
   "metadata": {},
   "source": [
    "Voyons si les deux méthodes ont convergé."
   ]
  },
  {
   "cell_type": "code",
   "execution_count": null,
   "metadata": {},
   "outputs": [],
   "source": [
    "print(\"Succès méthode explicite: \", sim4_explicite.success)\n",
    "print(\"Succès méthode implicite: \", sim4_implicite.success)"
   ]
  },
  {
   "cell_type": "code",
   "execution_count": null,
   "metadata": {},
   "outputs": [],
   "source": [
    "# Tracer les courbes de concentration\n",
    "plt.plot(sim4_implicite.t, sim4_implicite.y[0], label=\"[X]\")\n",
    "plt.plot(sim4_implicite.t, 10**4 * sim4_implicite.y[1], label=r\"$10^4\\times$[Y]\")\n",
    "plt.plot(sim4_implicite.t, sim4_implicite.y[2], label=\"[Z]\")\n",
    "plt.xlabel(\"Temps (s)\")\n",
    "plt.ylabel(\"Concentration (mol/L)\")\n",
    "plt.title(\"Réaction chimique autocatalytique de Robertson\")\n",
    "plt.legend()\n",
    "plt.grid(True)\n",
    "plt.show()"
   ]
  },
  {
   "cell_type": "markdown",
   "metadata": {},
   "source": [
    "## <a name=\"lexique\"><h2 align=\"center\"> Lexique </h2></a>\n",
    "\n",
    "### ✔️ Vu dans l'exemple 1,2,3,4\n",
    "\n",
    "- `spi.solve_ivp`: fonction qui permet de résoudre un système d'ODE.\n"
   ]
  }
 ],
 "metadata": {
  "interpreter": {
   "hash": "25034407fed5d681614dac11a1c0537e8cb49e3a8883c071303eea01322943d9"
  },
  "kernelspec": {
   "display_name": "Python 3.9.0 64-bit",
   "language": "python",
   "name": "python3"
  },
  "language_info": {
   "codemirror_mode": {
    "name": "ipython",
    "version": 3
   },
   "file_extension": ".py",
   "mimetype": "text/x-python",
   "name": "python",
   "nbconvert_exporter": "python",
   "pygments_lexer": "ipython3",
   "version": "3.9.0"
  },
  "vscode": {
   "interpreter": {
    "hash": "25034407fed5d681614dac11a1c0537e8cb49e3a8883c071303eea01322943d9"
   }
  }
 },
 "nbformat": 4,
 "nbformat_minor": 2
}
