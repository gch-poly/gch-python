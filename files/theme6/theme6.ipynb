{
 "cells": [
  {
   "cell_type": "markdown",
   "metadata": {},
   "source": [
    "# <h1 align=\"center\"> THEME 6 - Résolution analytique d'équations différentielles</h1>\n",
    "\n",
    "### 🎯 Objectifs\n",
    "- Résoudre des équations différentielles analytiquement\n",
    "\n",
    "### ✒️ Notions \n",
    "\n",
    "- [Exemple 1](#ex1):\n",
    "    - Manipuler une expression symbolique.\n",
    "    - Construire une équation différentielle et la résoudre.\n",
    "- [Exemple 2](#ex2):\n",
    "    - Construire un système à plusieurs EDO.\n",
    "    - Résoudre en injectant les solutions une par unes.\n",
    "    - Simplifier l'expression symbolique.\n",
    "- [Exemple 3](#ex3):\n",
    "    - Simplifier une expression manuellement.\n",
    "    - Utiliser des fonctions comme la transformée de Laplace. \n",
    "\n",
    "Un [lexique](#lexique) avec l'ensemble des fonctions qui ont été vues est disponible à la fin du notebook.\n",
    "\n",
    "### 🧰 Librairies\n",
    "\n",
    "- **Sympy**: est une librairie Python pour le calcul symbolique. Elle vise à devenir un système de calcul formel (CAS) complet tout en gardant le code aussi simple que possible afin d'être compréhensible et facilement extensible.\n",
    "- **Maxima**: comme Sympy, Maxima est un logiciel qui permet la manipulation et la résolution d'expressions symboliques. Son utilisation est similaire au moteur symbolique de Mathematica et malgré le fait que le projet est assez ancien, Maxima est un logiciel très puissant.\n",
    "- **SageMath**: est un logiciel de calcul mathématique qui utilise plusieurs librairies Python: Numpy, SciPy, matplotlib, Sympy et Maxima. C'est un logiciel assez volumineux qui permet de faire à peu près tout en mathématiques et remplacer Maple ou Mathematica.\n",
    "\n",
    "### 🔗 Références\n",
    "\n",
    "- [Documentation Sympy](https://docs.sympy.org/latest/reference/index.html#reference)\n",
    "- [Maxima](https://maxima.sourceforge.io/)\n",
    "- [SageMath](https://www.sagemath.org/)\n",
    "\n",
    "### ⚙️ Installation\n",
    "\n",
    "`pip install sympy`"
   ]
  },
  {
   "cell_type": "markdown",
   "metadata": {},
   "source": [
    "----\n",
    "\n",
    "## <h2 align=\"center\" id=\"ex1\"> Exemple 1 - Réaction Non-Linéaire </h2>\n",
    "\n",
    "### 📝 Contexte\n",
    "\n",
    "Soit la réaction suivante:\n",
    "\n",
    "$$\n",
    "2 A \\rightarrow B\n",
    "$$\n",
    "\n",
    "Son équation est une ODE non-linéaire:\n",
    "\n",
    "$$\n",
    "\\frac{d C_{A}}{d t}=-k C_{A}^{2}\n",
    "$$\n",
    "\n",
    "### 🧪 Paramètres\n",
    " \n",
    "Donnée:\n",
    "- $k=2 \\, L.mol^{-1}.min^{-1}$\n",
    "\n",
    "Condition initiale:\n",
    "- $C_{A0}=1 \\, mol.L^{-1}$\n",
    "\n",
    "### ⭐ Objectif\n",
    "\n",
    "Résoudre l'ODE numériquement et tracer la concentration de A entre t=0 et t=10 min avec 26 points."
   ]
  },
  {
   "cell_type": "markdown",
   "metadata": {},
   "source": [
    "### 💻 Code"
   ]
  },
  {
   "cell_type": "markdown",
   "metadata": {},
   "source": [
    "Sympy est une librairie très complète et qui possède un grand nombre de fonctions pour la résolution de toute sorte d'équations. Pour ce thème, le sous-module [ODE](https://docs.sympy.org/latest/modules/solvers/ode.html) de Sympy sera principalement utilisé.\n",
    "\n",
    "Tout calcul symbolique avec Sympy se fait avec 3 types de données:\n",
    "1. Des variables (ou symboles) définis avec `Symbol` ou `symbols`.\n",
    "2. Des fonctions définies avec `Function`.\n",
    "3. Des équations (ou expressions) définies avec `Eq`.\n",
    "\n",
    "Pour commencer, on définit notre équation non-linéaire sans utiliser de paramètres numériques. "
   ]
  },
  {
   "cell_type": "code",
   "execution_count": null,
   "metadata": {},
   "outputs": [],
   "source": [
    "import sympy as sp  # Importer la librairie sympy\n",
    "import matplotlib.pyplot as plt\n",
    "import numpy as np\n",
    "\n",
    "sp.init_printing()  # Initialiser le système d'affichage LaTeX\n",
    "\n",
    "# Déclarations\n",
    "# ---------------------------------------------------\n",
    "t, k = sp.symbols(\"t k\")  # Variables t et k\n",
    "C = sp.Function(\"C\")  # Fonction C qui dépend de t\n",
    "expr = sp.Eq(C(t).diff(t), -k * C(t) ** 2)\n",
    "\n",
    "# Afficher l'expression en LaTeX\n",
    "expr"
   ]
  },
  {
   "cell_type": "markdown",
   "metadata": {},
   "source": [
    "Une fois l'équation différentielle définie, on peut la résoudre avec la fonction `dsolve`."
   ]
  },
  {
   "cell_type": "code",
   "execution_count": null,
   "metadata": {},
   "outputs": [],
   "source": [
    "sol_analytique = sp.dsolve(expr)\n",
    "sol_analytique"
   ]
  },
  {
   "cell_type": "markdown",
   "metadata": {},
   "source": [
    "On peut remplacer une variable avec valeur numérique avec `subs`."
   ]
  },
  {
   "cell_type": "code",
   "execution_count": null,
   "metadata": {},
   "outputs": [],
   "source": [
    "expr = expr.subs(k, 2)\n",
    "expr"
   ]
  },
  {
   "cell_type": "markdown",
   "metadata": {},
   "source": [
    "Pour résoudre l'équation différentielle avec des conditions initiales, on peut passer un dictionnaire à l'argument `ics` de la fonction `dsolve`."
   ]
  },
  {
   "cell_type": "code",
   "execution_count": null,
   "metadata": {},
   "outputs": [],
   "source": [
    "# ics prend un dictionnaire avec comme clé la fonction avec sa variable dépendante définie numériquement et comme valeur\n",
    "# la condition initiale\n",
    "sol = sp.dsolve(expr, ics={C(0): 1})  # C_A0 = 1\n",
    "sol"
   ]
  },
  {
   "cell_type": "markdown",
   "metadata": {},
   "source": [
    "On peut évaluer notre solution à un instant t en remplaçant la variable `t` par sa valeur numérique. "
   ]
  },
  {
   "cell_type": "code",
   "execution_count": null,
   "metadata": {},
   "outputs": [],
   "source": [
    "sol.subs(t, 3)"
   ]
  },
  {
   "cell_type": "markdown",
   "metadata": {},
   "source": [
    "Noter que la solution est une équation, c'est à dire qu'elle contient une partie `lhs` (left-hand-side) dépendante de la variable d'état (ici `t`) et une partie `rhs` (right-hand-side) indépendante de cette variable.\n",
    "\n",
    "Pour pouvoir évaluer la solution sur un ensemble de valeurs de `t` (comme un vecteur Numpy) il faut la transformer en fonction. Pour cela on utilise la fonction `lambdify` sur la partie `rhs` de la solution."
   ]
  },
  {
   "cell_type": "code",
   "execution_count": null,
   "metadata": {},
   "outputs": [],
   "source": [
    "from sympy.utilities.lambdify import lambdify\n",
    "\n",
    "# Création d'une fonction qui prend en paramètre t et renvoie la valeur de la solution\n",
    "f = lambdify(t, sol.rhs)\n",
    "vec_t = np.linspace(0, 10, 100)\n",
    "\n",
    "# La fonction peut être directement évaluée sur un vecteur Numpy\n",
    "plt.plot(vec_t, f(vec_t))\n",
    "plt.show()"
   ]
  },
  {
   "cell_type": "markdown",
   "metadata": {},
   "source": [
    "### 💡 Astuces\n",
    "\n",
    "Dans un notebook on peut afficher une equation/expression en LaTeX en mettant la variable en fin de cellule."
   ]
  },
  {
   "cell_type": "code",
   "execution_count": null,
   "metadata": {},
   "outputs": [],
   "source": [
    "expr"
   ]
  },
  {
   "cell_type": "markdown",
   "metadata": {},
   "source": [
    "Et dans un fichier python, on peut plutôt utiliser la fonction `pprint` qui permet d'afficher l'expression en ASCII ou Unicode (meilleur). "
   ]
  },
  {
   "cell_type": "code",
   "execution_count": null,
   "metadata": {},
   "outputs": [],
   "source": [
    "sp.pprint(expr, use_unicode=True)"
   ]
  },
  {
   "cell_type": "markdown",
   "metadata": {},
   "source": [
    "----\n",
    "\n",
    "## <h2 align=\"center\" id=\"ex2\"> Exemple 2 - Écoulement laminaire entre 2 plaques </h2>\n",
    "\n",
    "### 📝 Contexte\n",
    "\n",
    "Soit un fluide Newtonien s'écoulant entre deux plaques horizontales de longueur $L$ et séparées par un espace vertical de $2H$. L'axe $z$ est dans la direction de l'écoulement, et la vitesse du fluide dépend de la position verticale entre les deux plaques (l'axe $x$): $v_z(x)$. On opère en régime permanent, et on néglige les effets de bouts. C'est une différence de pression ($p_1 - p_0$) aux extrémités des plaques qui force cet écoulement laminaire. Les propriétés du fluide sont présumées constantes.\n",
    "\n",
    "Les équations de Navier-Stokes se simplifient pour décrire le mouvement:\n",
    "\n",
    "$$\n",
    "\\frac{d}{d z} p{\\left(z \\right)} = \\mu \\frac{d^{2}}{d x^{2}} \\operatorname{v_{z}}{\\left(x \\right)}\n",
    "$$\n",
    "\n",
    "La température variera suivant $x$ et dépendra de la conduction et de la dissipation visqueuse comme suit:\n",
    "\n",
    "$$\n",
    "0 = k \\frac{d^{2}}{d x^{2}} T{\\left(x \\right)} + \\mu \\left(\\frac{d}{d x} \\operatorname{v_{z}}{\\left(x \\right)}\\right)^{2}\n",
    "$$\n",
    "\n",
    "On remarque que l'équation de mouvement est une EDO exacte, et que donc:\n",
    "\n",
    "$$\\frac{d^{}}{d z^{}} p{\\left(z \\right)} = \\text{constante} $$\n",
    "\n",
    "Que l'on peut reformuler comme:\n",
    "\n",
    "$$\\frac{d^{2}}{d z^{2}} p{\\left(z \\right)} = 0 $$\n",
    "\n",
    "### 🧪 Paramètres\n",
    "\n",
    "**Conditions frontalières (C.F.):**\n",
    "\n",
    "Aux deux bouts de la plaque on a des pressions données:\n",
    "\n",
    "$$\n",
    "\\begin{aligned}\n",
    "\\text{C.F.1} &: \\quad \\operatorname{p}{\\left(z=0 \\right)} = p_0 \\\\\n",
    "\\text{C.F.2} &: \\quad \\operatorname{p}{\\left(z=L \\right)} = p_1\n",
    "\\end{aligned}\n",
    "$$\n",
    "\n",
    "\n",
    "On présume qu'il n'y a pas de glissement, le fluide a donc une vitesse nulle au contact des plaques:\n",
    "\n",
    "$$\n",
    "\\begin{aligned}\n",
    "\\text{C.F.3} &: \\quad  \\operatorname{v_z}{\\left(x=H \\right)} = 0 \\\\\n",
    "\\text{C.F.4} &: \\quad \\operatorname{v_z}{\\left(x=-H \\right)} = 0\n",
    "\\end{aligned}\n",
    "$$\n",
    "\n",
    "La première plaque (à $x=H$) est maintenue à une température $T_1$. \n",
    "\n",
    "$$  \\text{C.F.5:} \\quad T \\left(x=H \\right) = T_1 $$\n",
    "\n",
    "L'autre plaque (à $x=-H$) est parfaitement isolée, donc sans échange de chaleur, $q_x$:\n",
    "\n",
    "$$  \\text{C.F.6:} \\quad q_x \\left(x=-H \\right) = -k \\frac{d^{2}}{d x^{2}} T{\\left(x \\right)}\\vert_{x=H} = 0 $$\n",
    "\n",
    "### ⭐ Objectif\n",
    "\n",
    "Trouver une expression pour le profil de vitesse et de température du fluide."
   ]
  },
  {
   "cell_type": "markdown",
   "metadata": {},
   "source": [
    "### 💻 Code"
   ]
  },
  {
   "cell_type": "markdown",
   "metadata": {},
   "source": [
    "#### Initialisation"
   ]
  },
  {
   "cell_type": "markdown",
   "metadata": {},
   "source": [
    "On commence par définir les variables, équations et expressions que l'on va utiliser."
   ]
  },
  {
   "cell_type": "code",
   "execution_count": null,
   "metadata": {},
   "outputs": [],
   "source": [
    "# Déclarations\n",
    "# ---------------------------------------------------\n",
    "# Variables des équations\n",
    "k, x, z, mu, t = sp.symbols(\"k x z mu t\")\n",
    "# Variables des conditions frontalières\n",
    "T1, H, p0, p1, L = sp.symbols(\"T_1, H, p_0, p_1, L\")\n",
    "# Fonctions\n",
    "vz = sp.Function(\"v_z\")\n",
    "p = sp.Function(\"p\")\n",
    "T = sp.Function(\"T\")"
   ]
  },
  {
   "cell_type": "code",
   "execution_count": null,
   "metadata": {},
   "outputs": [],
   "source": [
    "eq_mouvement = sp.Eq(p(z).diff(z), mu * vz(x).diff(x, 2))\n",
    "eq_mouvement"
   ]
  },
  {
   "cell_type": "code",
   "execution_count": null,
   "metadata": {},
   "outputs": [],
   "source": [
    "eq_energie = sp.Eq(0, k * T(x).diff(x, 2) + mu * (vz(x).diff(x)) ** 2)\n",
    "eq_energie"
   ]
  },
  {
   "cell_type": "code",
   "execution_count": null,
   "metadata": {},
   "outputs": [],
   "source": [
    "eq_pression = sp.Eq(0, p(z).diff(z, 2))\n",
    "eq_pression"
   ]
  },
  {
   "cell_type": "markdown",
   "metadata": {},
   "source": [
    "#### Résolution"
   ]
  },
  {
   "cell_type": "markdown",
   "metadata": {},
   "source": [
    "La résolution de systèmes d'ODE dans Sympy est encore très expérimentale et ne supporte pas beaucoup de cas. Pour le moment, il est donc mieux de résoudre notre système en résolvant chacune des équations séparément et en injectant l'expression trouvée dans l'équation suivante. \n",
    "\n",
    "On résout l'équation de pression avec les conditions frontalières, ce qui nous donne un gradient de pression constant:"
   ]
  },
  {
   "cell_type": "code",
   "execution_count": null,
   "metadata": {},
   "outputs": [],
   "source": [
    "# Résolution de l'équation de pression\n",
    "sol_p = sp.dsolve(eq_pression, ics={p(0): p0, p(L): p1})\n",
    "sol_p"
   ]
  },
  {
   "cell_type": "markdown",
   "metadata": {},
   "source": [
    "Pour substituer facilement l'expression de $p(z)$ dans l'équation de mouvement, on créé un dictionnaire qui va contenir les expression des équations résolues. Ce dictionnaire est ensuite passé à `subs` avant."
   ]
  },
  {
   "cell_type": "code",
   "execution_count": null,
   "metadata": {},
   "outputs": [],
   "source": [
    "sol_dict = {}\n",
    "sol_dict[p(z)] = sol_p.rhs\n",
    "# Résolution de l'équation de mouvement\n",
    "sol_m = sp.dsolve(eq_mouvement.subs(sol_dict), ics={vz(H): 0, vz(-H): 0})\n",
    "sol_m"
   ]
  },
  {
   "cell_type": "markdown",
   "metadata": {},
   "source": [
    "Finalement on effectue un substitution similaire pour résoudre l'équation d'énergie."
   ]
  },
  {
   "cell_type": "code",
   "execution_count": null,
   "metadata": {},
   "outputs": [],
   "source": [
    "sol_dict[vz(x)] = sol_m.rhs\n",
    "# Résolution de l'équation d'énergie\n",
    "sol_e = sp.dsolve(eq_energie.subs(sol_dict), ics={T(H): T1, T(x).diff(x).subs(x, -H): 0})\n",
    "sol_dict[T(x)] = sol_e.rhs\n",
    "sol_e"
   ]
  },
  {
   "cell_type": "markdown",
   "metadata": {},
   "source": [
    "On remarque que l'expression pour $T(x)$ est assez complexe. Sympy met a disposition plusieurs fonctions pour manipuler l'expression d'une expression. Les fonctions les plus importantes sont:\n",
    "\n",
    "- `.simplify()` pour simplifier l'expression.\n",
    "- `.expand()` pour développer l'expression.\n",
    "- `.factor()` pour factoriser l'expression.\n",
    "- `.collect(<sub_expr>)` pour factoriser une expression par une sous-expression.\n",
    "\n",
    "Ici on peut par exemple voir si l'expression de $T(x)-T_1$ pourrait être simplifiée et factorisée."
   ]
  },
  {
   "cell_type": "code",
   "execution_count": null,
   "metadata": {},
   "outputs": [],
   "source": [
    "# Simplification de l'expression de T(x) - T1\n",
    "delta_T = (sol_dict[T(x)] - T1).simplify().factor()\n",
    "delta_T"
   ]
  },
  {
   "cell_type": "markdown",
   "metadata": {},
   "source": [
    "Pour pouvoir insérer nos résultats dans un document, la fonction `sp.print_latex()` permet d'afficher le code $LaTeX$ de notre expression."
   ]
  },
  {
   "cell_type": "code",
   "execution_count": null,
   "metadata": {},
   "outputs": [],
   "source": [
    "sp.print_latex(delta_T)  # Imprimer le code latex"
   ]
  },
  {
   "cell_type": "markdown",
   "metadata": {},
   "source": [
    "#### Visualisation"
   ]
  },
  {
   "cell_type": "markdown",
   "metadata": {},
   "source": [
    "En définissant des valeurs numériques à nos variables on peut visualiser le profil de vitesse et de température du fluide."
   ]
  },
  {
   "cell_type": "code",
   "execution_count": null,
   "metadata": {},
   "outputs": [],
   "source": [
    "# Définition des valeurs numériques pour chaque variable sympy\n",
    "# ---------------------------------------------------\n",
    "values = {H: 0.01, p0: 300e3, p1: 100e3, L: 10, k: 0.285, mu: 0.89, T1: 300}\n",
    "\n",
    "f_T = sp.lambdify(x, sol_dict[T(x)].subs(values))\n",
    "f_vz = sp.lambdify(x, sol_dict[vz(x)].subs(values))\n",
    "vec_x = np.linspace(-values[H], values[H], 100)"
   ]
  },
  {
   "cell_type": "code",
   "execution_count": null,
   "metadata": {},
   "outputs": [],
   "source": [
    "plt.xlabel(\"Position en x, de -H à H [m]\")\n",
    "plt.ylabel(\"Température [K]\")\n",
    "plt.plot(vec_x, f_T(vec_x))\n",
    "plt.title(\"Profil de température dans le conduit\")\n",
    "plt.grid(True)\n",
    "plt.show()"
   ]
  },
  {
   "cell_type": "code",
   "execution_count": null,
   "metadata": {},
   "outputs": [],
   "source": [
    "plt.xlabel(\"Position en x, de -H à H [m]\")\n",
    "plt.ylabel(\"Vitesse d'écoulement ($v_z$) [m/s]\")\n",
    "plt.plot(vec_x, f_vz(vec_x))\n",
    "plt.title(\"Profil de vitesse dans le conduit\")\n",
    "plt.grid(True)\n",
    "plt.show()"
   ]
  },
  {
   "cell_type": "markdown",
   "metadata": {},
   "source": [
    "----\n",
    "\n",
    "## <h2 align=\"center\" id=\"ex3\"> Exemple 3 - Contrôle du remplissage d'un reservoir </h2>\n",
    "\n",
    "### 📝 Contexte\n",
    "\n",
    "Un reservoir cylindrique d'eau de diamètre $d$ et de hauteur $H$ se remplit à un débit de $Q_{in}$ $m^{3}/s$ et se vide à un débit de $Q_{out}$ $m^{3}/s$. Si $Q_{in}>Q_{out}$ alors le reservoir se remplit et la hauteur $h$ de l'eau augmente. C'est le contraire lorsque $Q_{in}<Q_{out}$. \n",
    "\n",
    "Au bas du reservoir se trouve un tube avec une valve qui permet de contrôler le débit sortant.\n",
    "\n",
    "<center>\n",
    "    <img src=\"./assets/filling_tank.png\"/>\n",
    "</center>\n",
    "\n",
    "Par définition, un débit est la variation de volume par rapport au temps: $Q=\\frac{dV}{dt}$. Dans notre cas, le débit total est la différence entre le débit entrant et sortant, on peut donc réécrire l'équation comme suit:\n",
    "\n",
    "$$\n",
    "Q_{in} - Q_{out} = A \\frac{dh}{dt}\n",
    "$$\n",
    "\n",
    "En évaluant la pression différentielle dans le tube de sortie, on obtient l'expression suivante pour $Q_{out}$:\t\n",
    "\n",
    "$$\n",
    "Q_{out} = \\frac{\\rho gh}{K}\n",
    "$$\n",
    "\n",
    "Où $K$ est la résistance au flux causée par la valve.\n",
    "\n",
    "### ⭐ Objectif\n",
    "\n",
    "1. À partir des deux équations, construire une équation différentielle avec une entrée et une sortie.\n",
    "2. Trouver la fonction de transfert du système avec une transformée de Laplace. \n",
    "3. Remplacer l'entrée par une entrée unitaire et calculer la réponse temporelle résultante. "
   ]
  },
  {
   "cell_type": "markdown",
   "metadata": {},
   "source": [
    "### 💻 Code"
   ]
  },
  {
   "cell_type": "markdown",
   "metadata": {},
   "source": [
    "#### Initialisation"
   ]
  },
  {
   "cell_type": "markdown",
   "metadata": {},
   "source": [
    "On commence par définir les variables, équations et expressions que l'on va utiliser. Pour cet exemple, il est important de définir nos variables comme étant des réels positifs ou nuls pour obtenir un résultat plus simple lors de la transformée de Laplace. "
   ]
  },
  {
   "cell_type": "code",
   "execution_count": null,
   "metadata": {},
   "outputs": [],
   "source": [
    "# Déclarations\n",
    "# ---------------------------------------------------\n",
    "Qin, Qout, A, rho, g, h, K, t = sp.symbols(\"Q_in, Q_out, A, rho, g, h, K, t\", real=True, positive=True)\n",
    "h = sp.Function(\"h\")"
   ]
  },
  {
   "cell_type": "code",
   "execution_count": null,
   "metadata": {},
   "outputs": [],
   "source": [
    "# Définition de l'équation et de l'expression de Qout\n",
    "# ---------------------------------------------------\n",
    "eq = sp.Eq(Qin - Qout, A * h(t).diff(t))\n",
    "Qout_expr = (rho * g * h(t)) / K\n",
    "\n",
    "# Substituer l'expression de Qout dans l'équation\n",
    "eq = eq.subs(Qout, Qout_expr)\n",
    "eq"
   ]
  },
  {
   "cell_type": "markdown",
   "metadata": {},
   "source": [
    "On peut manipuler l'equation manuellement en effectuant des additions ou multiplications des 2 bords. Notez ici qu'une nouvelle equation doit être créée. "
   ]
  },
  {
   "cell_type": "code",
   "execution_count": null,
   "metadata": {},
   "outputs": [],
   "source": [
    "eq2 = sp.Eq(eq.lhs * K / (rho * g) + h(t), eq.rhs * K / (rho * g) + h(t)).simplify()\n",
    "eq2"
   ]
  },
  {
   "cell_type": "markdown",
   "metadata": {},
   "source": [
    "On remarque que notre equation a maintenant la forme $\\alpha R = \\tau \\frac{d Y}{d t}+Y$ avec $\\alpha=\\frac{K}{\\rho g}$, $\\tau=A \\alpha$, $R$ l'entrée du système et $Y$ la sortie. Effectuons les substitutions:"
   ]
  },
  {
   "cell_type": "code",
   "execution_count": null,
   "metadata": {},
   "outputs": [],
   "source": [
    "# Déclarations des variables de substitution\n",
    "# ---------------------------------------------------\n",
    "alpha, tau = sp.symbols(\"alpha, tau\", real=True, positive=True)\n",
    "R = sp.Function(\"R\")\n",
    "Y = sp.Function(\"Y\")\n",
    "\n",
    "# Substitution\n",
    "# ---------------------------------------------------\n",
    "eq3 = eq2.subs(K / (rho * g), alpha)\n",
    "eq3 = eq3.subs(A * alpha, tau)\n",
    "eq3 = eq3.subs(h(t), Y(t))\n",
    "eq3 = eq3.subs(Qin, R(t))\n",
    "eq3"
   ]
  },
  {
   "cell_type": "markdown",
   "metadata": {},
   "source": [
    "Passons dans le domaine frequentielle avec une transformée de Laplace. Notez que la fonction `sp.laplace_transform` n'agit que sur une expression et non une équation, cela veut dire que l'on doit soustraire l'un des des bords par l'autre pour obtenir notre expression. "
   ]
  },
  {
   "cell_type": "code",
   "execution_count": null,
   "metadata": {},
   "outputs": [],
   "source": [
    "# Transformée de Laplace\n",
    "# ---------------------------------------------------\n",
    "s = sp.symbols(\"s\")\n",
    "sp.laplace_transform(eq3.rhs - eq3.lhs, t, s, simplify=True)"
   ]
  },
  {
   "cell_type": "markdown",
   "metadata": {},
   "source": [
    "En réarrangeant les termes de l'expression et en posant $Y(0)=0$, on obtient la fonction de transfert suivante: $ \\frac{Y(s)}{R(s)} = \\frac{\\alpha}{1 + \\tau s}$. Ensuite, en prenant une entrée proportionnelle: $R(t) = a$ on peut remplacer R(s) par $a/s$. Finalement on effectue la transformée de Laplace inverse pour obtenir la réponse temporelle: $Y(t)$."
   ]
  },
  {
   "cell_type": "code",
   "execution_count": null,
   "metadata": {},
   "outputs": [],
   "source": [
    "a = sp.symbols(\"a\")\n",
    "fn_transfert = alpha / (1 + tau * s)\n",
    "sp.inverse_laplace_transform(fn_transfert * (a / s), s, t).collect(a * alpha)"
   ]
  },
  {
   "cell_type": "markdown",
   "metadata": {},
   "source": [
    "----\n",
    "\n",
    "## <h2 align=\"center\" id=\"ex3\"> 📚 Lexique </h2>\n",
    "\n",
    "### ✔️ Vu dans l'exemple 1\n",
    "\n",
    "- `sp.init_printing()`: Initialiser le systeme d'affichage LaTeX (uniquement dans un notebook).\n",
    "- `sp.symbols`: Créer des symboles qui vont représenter nos variables.\n",
    "- `sp.Function`: Créer une fonction.\n",
    "- `sp.Eq`: Créer une équation.\n",
    "- `.diff()`: effectuer la dérivée d'une fonction.\n",
    "- `sp.dsolve`: résoudre une équation différentielle.\n",
    "- `.subs()`: effectuer une substitution dans une expression.\n",
    "- `lambify`: transformer une fonction Sympy en fonction Python qui permet d'évaluer la fonction numériquement.\n",
    "- `.rhs`: obtenir l'expression de la droite de l'équation.\n",
    "- `.lhs`: obtenir l'expression de la gauche de l'équation.\n",
    "- `sp.pprint`: afficher une expression pour un fichier python. \n",
    "\n",
    "### ✔️ Vu dans l'exemple 2\n",
    "\n",
    "- `.simplify()` pour simplifier l'expression.\n",
    "- `.expand()` pour développer l'expression.\n",
    "- `.factor()` pour factoriser l'expression.\n",
    "- `.collect(<sub_expr>)` pour factoriser une expression par une sous-expression.\n",
    "- `sp.print_latex`: afficher le code $LaTeX$ de notre expression.\n",
    "\n",
    "### ✔️ Vu dans l'exemple 3\n",
    "\n",
    "- `sp.laplace_transform`: évaluer la transformée de laplace.\n",
    "- `sp.inverse_laplace_transform`: évaluer la transformée inverse de laplace."
   ]
  }
 ],
 "metadata": {
  "interpreter": {
   "hash": "25034407fed5d681614dac11a1c0537e8cb49e3a8883c071303eea01322943d9"
  },
  "kernelspec": {
   "display_name": "Python 3.9.0 64-bit",
   "language": "python",
   "name": "python3"
  },
  "language_info": {
   "codemirror_mode": {
    "name": "ipython",
    "version": 3
   },
   "file_extension": ".py",
   "mimetype": "text/x-python",
   "name": "python",
   "nbconvert_exporter": "python",
   "pygments_lexer": "ipython3",
   "version": "3.9.0"
  },
  "vscode": {
   "interpreter": {
    "hash": "25034407fed5d681614dac11a1c0537e8cb49e3a8883c071303eea01322943d9"
   }
  }
 },
 "nbformat": 4,
 "nbformat_minor": 2
}
